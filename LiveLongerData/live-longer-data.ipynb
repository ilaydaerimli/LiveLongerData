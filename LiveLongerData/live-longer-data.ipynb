{
 "cells": [
  {
   "cell_type": "code",
   "execution_count": 119,
   "metadata": {
    "_cell_guid": "b1076dfc-b9ad-4769-8c92-a6c4dae69d19",
    "_uuid": "8f2839f25d086af736a60e9eeb907d3b93b6e0e5",
    "execution": {
     "iopub.execute_input": "2023-08-29T08:40:25.995287Z",
     "iopub.status.busy": "2023-08-29T08:40:25.994023Z",
     "iopub.status.idle": "2023-08-29T08:40:26.070906Z",
     "shell.execute_reply": "2023-08-29T08:40:26.069150Z",
     "shell.execute_reply.started": "2023-08-29T08:40:25.995236Z"
    }
   },
   "outputs": [],
   "source": [
    "# This Python 3 environment comes with many helpful analytics libraries installed\n",
    "# It is defined by the kaggle/python Docker image: https://github.com/kaggle/docker-python\n",
    "# For example, here's several helpful packages to load\n",
    "\n",
    "import numpy as np # linear algebra\n",
    "import pandas as pd # data processing, CSV file I/O (e.g. pd.read_csv)\n",
    "\n",
    "# Input data files are available in the read-only \"../input/\" directory\n",
    "# For example, running this (by clicking run or pressing Shift+Enter) will list all files under the input directory\n",
    "\n",
    "import plotly.express as px\n",
    "\n",
    "\n",
    "import seaborn as sns\n",
    "cm = sns.light_palette(\"red\", as_cmap=True)"
   ]
  },
  {
   "cell_type": "code",
   "execution_count": 120,
   "metadata": {
    "execution": {
     "iopub.execute_input": "2023-08-29T08:40:26.074507Z",
     "iopub.status.busy": "2023-08-29T08:40:26.073264Z",
     "iopub.status.idle": "2023-08-29T08:40:26.081019Z",
     "shell.execute_reply": "2023-08-29T08:40:26.079284Z",
     "shell.execute_reply.started": "2023-08-29T08:40:26.074456Z"
    }
   },
   "outputs": [],
   "source": [
    "import pandas as pd\n",
    "import numpy as np"
   ]
  },
  {
   "cell_type": "code",
   "execution_count": 121,
   "metadata": {
    "execution": {
     "iopub.execute_input": "2023-08-29T08:40:26.083672Z",
     "iopub.status.busy": "2023-08-29T08:40:26.083238Z",
     "iopub.status.idle": "2023-08-29T08:40:26.151200Z",
     "shell.execute_reply": "2023-08-29T08:40:26.149547Z",
     "shell.execute_reply.started": "2023-08-29T08:40:26.083638Z"
    }
   },
   "outputs": [
    {
     "data": {
      "text/html": [
       "<div>\n",
       "<style scoped>\n",
       "    .dataframe tbody tr th:only-of-type {\n",
       "        vertical-align: middle;\n",
       "    }\n",
       "\n",
       "    .dataframe tbody tr th {\n",
       "        vertical-align: top;\n",
       "    }\n",
       "\n",
       "    .dataframe thead th {\n",
       "        text-align: right;\n",
       "    }\n",
       "</style>\n",
       "<table border=\"1\" class=\"dataframe\">\n",
       "  <thead>\n",
       "    <tr style=\"text-align: right;\">\n",
       "      <th></th>\n",
       "      <th>Factor</th>\n",
       "      <th>Years gained / lost</th>\n",
       "      <th>strength of science?</th>\n",
       "      <th>strength of science as a number</th>\n",
       "      <th>sexes affected</th>\n",
       "      <th>effect</th>\n",
       "      <th>Comment</th>\n",
       "      <th>Note</th>\n",
       "      <th>ID</th>\n",
       "      <th>Sources</th>\n",
       "      <th>Links</th>\n",
       "    </tr>\n",
       "  </thead>\n",
       "  <tbody>\n",
       "    <tr>\n",
       "      <th>0</th>\n",
       "      <td>Smoking</td>\n",
       "      <td>-10.0</td>\n",
       "      <td>strong</td>\n",
       "      <td>3</td>\n",
       "      <td>Both</td>\n",
       "      <td>negative</td>\n",
       "      <td>10 years gained (against those who continue to...</td>\n",
       "      <td>14 if combined with exercise and eating health...</td>\n",
       "      <td>1</td>\n",
       "      <td>Khaw KT, et al. (2008). Combined impact of hea...</td>\n",
       "      <td>http://www.washingtonpost.com/wp-dyn/articles/...</td>\n",
       "    </tr>\n",
       "    <tr>\n",
       "      <th>1</th>\n",
       "      <td>Sitting Down</td>\n",
       "      <td>-3.0</td>\n",
       "      <td>suggestive</td>\n",
       "      <td>1</td>\n",
       "      <td>Both</td>\n",
       "      <td>negative</td>\n",
       "      <td>for 8-11 hours sitting a day</td>\n",
       "      <td>No matter how much you exercise, sitting too m...</td>\n",
       "      <td>2</td>\n",
       "      <td>Sydney School of Public Health research paper ...</td>\n",
       "      <td>http://www.ncbi.nlm.nih.gov/pubmed/22450936</td>\n",
       "    </tr>\n",
       "    <tr>\n",
       "      <th>2</th>\n",
       "      <td>Too much sleeping</td>\n",
       "      <td>-1.5</td>\n",
       "      <td>suggestive</td>\n",
       "      <td>1</td>\n",
       "      <td>Both</td>\n",
       "      <td>negative</td>\n",
       "      <td>7 hours ideal, no more than 8 hrs a night</td>\n",
       "      <td>Averaging more than 8 hours sleep a night will...</td>\n",
       "      <td>3</td>\n",
       "      <td>New Scientist</td>\n",
       "      <td>http://www.newscientist.com/article/dn1928-sev...</td>\n",
       "    </tr>\n",
       "    <tr>\n",
       "      <th>3</th>\n",
       "      <td>More Optimism</td>\n",
       "      <td>2.0</td>\n",
       "      <td>suggestive</td>\n",
       "      <td>1</td>\n",
       "      <td>Female</td>\n",
       "      <td>positive</td>\n",
       "      <td>&amp; faith in fellow humans. calc takes average %...</td>\n",
       "      <td>Women within the highest 25% of optimism score...</td>\n",
       "      <td>4</td>\n",
       "      <td>Source: Hilary A. Tindle, M.D., assistant prof...</td>\n",
       "      <td>www.nlm.nih.gov/medlineplus/news/fullstory_879...</td>\n",
       "    </tr>\n",
       "    <tr>\n",
       "      <th>4</th>\n",
       "      <td>More Pets</td>\n",
       "      <td>3.0</td>\n",
       "      <td>good</td>\n",
       "      <td>2</td>\n",
       "      <td>Both</td>\n",
       "      <td>positive</td>\n",
       "      <td>particularly for elderly. calc assumes that he...</td>\n",
       "      <td>(1) Cats - According to a study by the Minneso...</td>\n",
       "      <td>5</td>\n",
       "      <td>Medical News Today; National Center for Biotec...</td>\n",
       "      <td>http://www.medicalnewstoday.com/articles/98432...</td>\n",
       "    </tr>\n",
       "  </tbody>\n",
       "</table>\n",
       "</div>"
      ],
      "text/plain": [
       "              Factor  Years gained / lost strength of science?  \\\n",
       "0            Smoking                -10.0               strong   \n",
       "1       Sitting Down                 -3.0           suggestive   \n",
       "2  Too much sleeping                 -1.5           suggestive   \n",
       "3      More Optimism                  2.0           suggestive   \n",
       "4          More Pets                  3.0                 good   \n",
       "\n",
       "   strength of science as a number sexes affected    effect  \\\n",
       "0                                3           Both  negative   \n",
       "1                                1           Both  negative   \n",
       "2                                1           Both  negative   \n",
       "3                                1         Female  positive   \n",
       "4                                2           Both  positive   \n",
       "\n",
       "                                             Comment  \\\n",
       "0  10 years gained (against those who continue to...   \n",
       "1                       for 8-11 hours sitting a day   \n",
       "2          7 hours ideal, no more than 8 hrs a night   \n",
       "3  & faith in fellow humans. calc takes average %...   \n",
       "4  particularly for elderly. calc assumes that he...   \n",
       "\n",
       "                                                Note  ID  \\\n",
       "0  14 if combined with exercise and eating health...   1   \n",
       "1  No matter how much you exercise, sitting too m...   2   \n",
       "2  Averaging more than 8 hours sleep a night will...   3   \n",
       "3  Women within the highest 25% of optimism score...   4   \n",
       "4  (1) Cats - According to a study by the Minneso...   5   \n",
       "\n",
       "                                             Sources  \\\n",
       "0  Khaw KT, et al. (2008). Combined impact of hea...   \n",
       "1  Sydney School of Public Health research paper ...   \n",
       "2                                      New Scientist   \n",
       "3  Source: Hilary A. Tindle, M.D., assistant prof...   \n",
       "4  Medical News Today; National Center for Biotec...   \n",
       "\n",
       "                                               Links  \n",
       "0  http://www.washingtonpost.com/wp-dyn/articles/...  \n",
       "1        http://www.ncbi.nlm.nih.gov/pubmed/22450936  \n",
       "2  http://www.newscientist.com/article/dn1928-sev...  \n",
       "3  www.nlm.nih.gov/medlineplus/news/fullstory_879...  \n",
       "4  http://www.medicalnewstoday.com/articles/98432...  "
      ]
     },
     "execution_count": 121,
     "metadata": {},
     "output_type": "execute_result"
    }
   ],
   "source": [
    "df = pd.read_csv(\"LiveLongerData.csv\")\n",
    "df.head()"
   ]
  },
  {
   "cell_type": "code",
   "execution_count": 122,
   "metadata": {
    "execution": {
     "iopub.execute_input": "2023-08-29T08:40:26.154867Z",
     "iopub.status.busy": "2023-08-29T08:40:26.154427Z",
     "iopub.status.idle": "2023-08-29T08:40:26.169165Z",
     "shell.execute_reply": "2023-08-29T08:40:26.167514Z",
     "shell.execute_reply.started": "2023-08-29T08:40:26.154833Z"
    }
   },
   "outputs": [
    {
     "data": {
      "text/plain": [
       "Factor                             0\n",
       "Years gained / lost                0\n",
       "strength of science?               0\n",
       "strength of science as a number    0\n",
       "sexes affected                     0\n",
       "effect                             0\n",
       "Comment                            9\n",
       "Note                               0\n",
       "ID                                 0\n",
       "Sources                            0\n",
       "Links                              0\n",
       "dtype: int64"
      ]
     },
     "execution_count": 122,
     "metadata": {},
     "output_type": "execute_result"
    }
   ],
   "source": [
    "df.isnull().sum()"
   ]
  },
  {
   "cell_type": "code",
   "execution_count": 123,
   "metadata": {
    "execution": {
     "iopub.execute_input": "2023-08-29T08:40:26.172185Z",
     "iopub.status.busy": "2023-08-29T08:40:26.171593Z",
     "iopub.status.idle": "2023-08-29T08:40:26.191348Z",
     "shell.execute_reply": "2023-08-29T08:40:26.189392Z",
     "shell.execute_reply.started": "2023-08-29T08:40:26.172134Z"
    }
   },
   "outputs": [
    {
     "data": {
      "text/plain": [
       "0     10 years gained (against those who continue to...\n",
       "1                          for 8-11 hours sitting a day\n",
       "2             7 hours ideal, no more than 8 hrs a night\n",
       "3     & faith in fellow humans. calc takes average %...\n",
       "4     particularly for elderly. calc assumes that he...\n",
       "5     higher and managerial professionals live longe...\n",
       "6     Japanese / Mediterannean diet will lengthen li...\n",
       "7                                                   NaN\n",
       "8                                          a lot is bad\n",
       "9                            or living near a busy road\n",
       "10                                               severe\n",
       "11                                                  NaN\n",
       "12     preventative health screening in 30-49 year olds\n",
       "13    compared to living at sea-level. 0.5-2.5 for w...\n",
       "14                                                  NaN\n",
       "15    30% less calories increases primate and rat li...\n",
       "16    as well as Yoga / Tai Chi - as relaxation exer...\n",
       "17                                                  NaN\n",
       "18                                                  NaN\n",
       "19        in formative years of secondary / high school\n",
       "20                                                  NaN\n",
       "21    150 minutes a week of moderate-intensity, leis...\n",
       "22                                     a little is fine\n",
       "23                           as opposed to taking risks\n",
       "24                                                  NaN\n",
       "25                                a little wine is fine\n",
       "26                        as opposed to not having much\n",
       "27                                                  NaN\n",
       "28    & strong social relationships. based on calc (...\n",
       "29    studies show it does and also doesn't, perhaps...\n",
       "30               compared to living next to a busy road\n",
       "31                                             polygamy\n",
       "32    if your siblings live to 100, you will be more...\n",
       "33                                    10 minutes a week\n",
       "34                                                  NaN\n",
       "Name: Comment, dtype: object"
      ]
     },
     "execution_count": 123,
     "metadata": {},
     "output_type": "execute_result"
    }
   ],
   "source": [
    "df.Comment"
   ]
  },
  {
   "cell_type": "code",
   "execution_count": 124,
   "metadata": {
    "execution": {
     "iopub.execute_input": "2023-08-29T08:40:26.195723Z",
     "iopub.status.busy": "2023-08-29T08:40:26.194201Z",
     "iopub.status.idle": "2023-08-29T08:40:26.207686Z",
     "shell.execute_reply": "2023-08-29T08:40:26.206139Z",
     "shell.execute_reply.started": "2023-08-29T08:40:26.195664Z"
    }
   },
   "outputs": [],
   "source": [
    "# Sabit değer atama\n",
    "df.Comment.fillna(value= \"There is no comment\", inplace=True)"
   ]
  },
  {
   "cell_type": "code",
   "execution_count": 125,
   "metadata": {
    "execution": {
     "iopub.execute_input": "2023-08-29T08:40:26.210339Z",
     "iopub.status.busy": "2023-08-29T08:40:26.209807Z",
     "iopub.status.idle": "2023-08-29T08:40:26.231364Z",
     "shell.execute_reply": "2023-08-29T08:40:26.230053Z",
     "shell.execute_reply.started": "2023-08-29T08:40:26.210279Z"
    }
   },
   "outputs": [
    {
     "data": {
      "text/plain": [
       "Factor                             0\n",
       "Years gained / lost                0\n",
       "strength of science?               0\n",
       "strength of science as a number    0\n",
       "sexes affected                     0\n",
       "effect                             0\n",
       "Comment                            0\n",
       "Note                               0\n",
       "ID                                 0\n",
       "Sources                            0\n",
       "Links                              0\n",
       "dtype: int64"
      ]
     },
     "execution_count": 125,
     "metadata": {},
     "output_type": "execute_result"
    }
   ],
   "source": [
    "df.isnull().sum()"
   ]
  },
  {
   "cell_type": "code",
   "execution_count": 126,
   "metadata": {
    "execution": {
     "iopub.execute_input": "2023-08-29T08:40:26.234386Z",
     "iopub.status.busy": "2023-08-29T08:40:26.232863Z",
     "iopub.status.idle": "2023-08-29T08:40:26.245348Z",
     "shell.execute_reply": "2023-08-29T08:40:26.244002Z",
     "shell.execute_reply.started": "2023-08-29T08:40:26.234330Z"
    }
   },
   "outputs": [],
   "source": [
    "import matplotlib.pyplot as plt"
   ]
  },
  {
   "cell_type": "code",
   "execution_count": 127,
   "metadata": {
    "execution": {
     "iopub.execute_input": "2023-08-29T08:40:26.247736Z",
     "iopub.status.busy": "2023-08-29T08:40:26.247095Z",
     "iopub.status.idle": "2023-08-29T08:40:26.853994Z",
     "shell.execute_reply": "2023-08-29T08:40:26.853031Z",
     "shell.execute_reply.started": "2023-08-29T08:40:26.247693Z"
    }
   },
   "outputs": [
    {
     "data": {
      "image/png": "[encoded data removed]",
      "text/plain": [
       "<Figure size 1200x800 with 1 Axes>"
      ]
     },
     "metadata": {},
     "output_type": "display_data"
    }
   ],
   "source": [
    "plt.figure(figsize=(12,8))\n",
    "\n",
    "plt.plot(df.Factor, df[\"Years gained / lost\"], ) #biz belirlemediğimiz sürece rengi otomatik kendisi verir. \n",
    "plt.xticks(rotation = 80)\n",
    "\n",
    "plt.show()"
   ]
  },
  {
   "cell_type": "code",
   "execution_count": 128,
   "metadata": {
    "execution": {
     "iopub.execute_input": "2023-08-29T08:40:26.858295Z",
     "iopub.status.busy": "2023-08-29T08:40:26.857067Z",
     "iopub.status.idle": "2023-08-29T08:40:26.866390Z",
     "shell.execute_reply": "2023-08-29T08:40:26.865503Z",
     "shell.execute_reply.started": "2023-08-29T08:40:26.858253Z"
    }
   },
   "outputs": [
    {
     "data": {
      "text/plain": [
       "0         strong\n",
       "1     suggestive\n",
       "2     suggestive\n",
       "3     suggestive\n",
       "4           good\n",
       "5     suggestive\n",
       "6         strong\n",
       "7           good\n",
       "8           good\n",
       "9     suggestive\n",
       "10        strong\n",
       "11        strong\n",
       "12          good\n",
       "13        strong\n",
       "14          good\n",
       "15    suggestive\n",
       "16    suggestive\n",
       "17    suggestive\n",
       "18        strong\n",
       "19    suggestive\n",
       "20    suggestive\n",
       "21        strong\n",
       "22    suggestive\n",
       "23    suggestive\n",
       "24    suggestive\n",
       "25    suggestive\n",
       "26          good\n",
       "27          good\n",
       "28    suggestive\n",
       "29    suggestive\n",
       "30    suggestive\n",
       "31    suggestive\n",
       "32        strong\n",
       "33        strong\n",
       "34        strong\n",
       "Name: strength of science?, dtype: object"
      ]
     },
     "execution_count": 128,
     "metadata": {},
     "output_type": "execute_result"
    }
   ],
   "source": [
    "df[\"strength of science?\"]"
   ]
  },
  {
   "cell_type": "code",
   "execution_count": 129,
   "metadata": {
    "execution": {
     "iopub.execute_input": "2023-08-29T08:40:26.869018Z",
     "iopub.status.busy": "2023-08-29T08:40:26.867491Z",
     "iopub.status.idle": "2023-08-29T08:40:26.897383Z",
     "shell.execute_reply": "2023-08-29T08:40:26.896401Z",
     "shell.execute_reply.started": "2023-08-29T08:40:26.868981Z"
    }
   },
   "outputs": [
    {
     "data": {
      "text/html": [
       "<div>\n",
       "<style scoped>\n",
       "    .dataframe tbody tr th:only-of-type {\n",
       "        vertical-align: middle;\n",
       "    }\n",
       "\n",
       "    .dataframe tbody tr th {\n",
       "        vertical-align: top;\n",
       "    }\n",
       "\n",
       "    .dataframe thead th {\n",
       "        text-align: right;\n",
       "    }\n",
       "</style>\n",
       "<table border=\"1\" class=\"dataframe\">\n",
       "  <thead>\n",
       "    <tr style=\"text-align: right;\">\n",
       "      <th></th>\n",
       "      <th>Factor</th>\n",
       "      <th>Years gained / lost</th>\n",
       "      <th>strength of science?</th>\n",
       "      <th>strength of science as a number</th>\n",
       "      <th>sexes affected</th>\n",
       "      <th>effect</th>\n",
       "      <th>Comment</th>\n",
       "      <th>Note</th>\n",
       "      <th>ID</th>\n",
       "      <th>Sources</th>\n",
       "      <th>Links</th>\n",
       "    </tr>\n",
       "  </thead>\n",
       "  <tbody>\n",
       "    <tr>\n",
       "      <th>0</th>\n",
       "      <td>Smoking</td>\n",
       "      <td>-10.0</td>\n",
       "      <td>strong</td>\n",
       "      <td>3</td>\n",
       "      <td>Both</td>\n",
       "      <td>negative</td>\n",
       "      <td>10 years gained (against those who continue to...</td>\n",
       "      <td>14 if combined with exercise and eating health...</td>\n",
       "      <td>1</td>\n",
       "      <td>Khaw KT, et al. (2008). Combined impact of hea...</td>\n",
       "      <td>http://www.washingtonpost.com/wp-dyn/articles/...</td>\n",
       "    </tr>\n",
       "    <tr>\n",
       "      <th>1</th>\n",
       "      <td>Sitting Down</td>\n",
       "      <td>-3.0</td>\n",
       "      <td>suggestive</td>\n",
       "      <td>1</td>\n",
       "      <td>Both</td>\n",
       "      <td>negative</td>\n",
       "      <td>for 8-11 hours sitting a day</td>\n",
       "      <td>No matter how much you exercise, sitting too m...</td>\n",
       "      <td>2</td>\n",
       "      <td>Sydney School of Public Health research paper ...</td>\n",
       "      <td>http://www.ncbi.nlm.nih.gov/pubmed/22450936</td>\n",
       "    </tr>\n",
       "    <tr>\n",
       "      <th>2</th>\n",
       "      <td>Too much sleeping</td>\n",
       "      <td>-1.5</td>\n",
       "      <td>suggestive</td>\n",
       "      <td>1</td>\n",
       "      <td>Both</td>\n",
       "      <td>negative</td>\n",
       "      <td>7 hours ideal, no more than 8 hrs a night</td>\n",
       "      <td>Averaging more than 8 hours sleep a night will...</td>\n",
       "      <td>3</td>\n",
       "      <td>New Scientist</td>\n",
       "      <td>http://www.newscientist.com/article/dn1928-sev...</td>\n",
       "    </tr>\n",
       "    <tr>\n",
       "      <th>3</th>\n",
       "      <td>More Optimism</td>\n",
       "      <td>2.0</td>\n",
       "      <td>suggestive</td>\n",
       "      <td>1</td>\n",
       "      <td>Female</td>\n",
       "      <td>positive</td>\n",
       "      <td>&amp; faith in fellow humans. calc takes average %...</td>\n",
       "      <td>Women within the highest 25% of optimism score...</td>\n",
       "      <td>4</td>\n",
       "      <td>Source: Hilary A. Tindle, M.D., assistant prof...</td>\n",
       "      <td>www.nlm.nih.gov/medlineplus/news/fullstory_879...</td>\n",
       "    </tr>\n",
       "    <tr>\n",
       "      <th>4</th>\n",
       "      <td>More Pets</td>\n",
       "      <td>3.0</td>\n",
       "      <td>good</td>\n",
       "      <td>2</td>\n",
       "      <td>Both</td>\n",
       "      <td>positive</td>\n",
       "      <td>particularly for elderly. calc assumes that he...</td>\n",
       "      <td>(1) Cats - According to a study by the Minneso...</td>\n",
       "      <td>5</td>\n",
       "      <td>Medical News Today; National Center for Biotec...</td>\n",
       "      <td>http://www.medicalnewstoday.com/articles/98432...</td>\n",
       "    </tr>\n",
       "    <tr>\n",
       "      <th>5</th>\n",
       "      <td>more professional responsibility</td>\n",
       "      <td>3.5</td>\n",
       "      <td>suggestive</td>\n",
       "      <td>1</td>\n",
       "      <td>Male</td>\n",
       "      <td>positive</td>\n",
       "      <td>higher and managerial professionals live longe...</td>\n",
       "      <td>At age 65, LE of males (2002-06) classified by...</td>\n",
       "      <td>6</td>\n",
       "      <td>Longevity Science Advisory Panel</td>\n",
       "      <td>http://www.longevitypanel.co.uk/docs/life-expe...</td>\n",
       "    </tr>\n",
       "    <tr>\n",
       "      <th>6</th>\n",
       "      <td>Healthy Eating</td>\n",
       "      <td>7.0</td>\n",
       "      <td>strong</td>\n",
       "      <td>3</td>\n",
       "      <td>Both</td>\n",
       "      <td>positive</td>\n",
       "      <td>Japanese / Mediterannean diet will lengthen li...</td>\n",
       "      <td>Figure given for Mediterannean diet. JAPANESE:...</td>\n",
       "      <td>7</td>\n",
       "      <td>Amazon (book) The Okinawa Program : How the Wo...</td>\n",
       "      <td>http://www.amazon.com/Okinawa-Program-Longest-...</td>\n",
       "    </tr>\n",
       "    <tr>\n",
       "      <th>7</th>\n",
       "      <td>Red Meat</td>\n",
       "      <td>-1.0</td>\n",
       "      <td>good</td>\n",
       "      <td>2</td>\n",
       "      <td>Both</td>\n",
       "      <td>positive</td>\n",
       "      <td>There is no comment</td>\n",
       "      <td>risk of dying in a given year increases by 13%...</td>\n",
       "      <td>8</td>\n",
       "      <td>BBC News</td>\n",
       "      <td>http://www.bbc.co.uk/news/magazine-17389938</td>\n",
       "    </tr>\n",
       "    <tr>\n",
       "      <th>8</th>\n",
       "      <td>Alcohol (heavy abuse)</td>\n",
       "      <td>-11.0</td>\n",
       "      <td>good</td>\n",
       "      <td>2</td>\n",
       "      <td>Both</td>\n",
       "      <td>positive</td>\n",
       "      <td>a lot is bad</td>\n",
       "      <td>Alcoholism reduces life expectancy by about 10...</td>\n",
       "      <td>9</td>\n",
       "      <td>New York Times</td>\n",
       "      <td>http://health.nytimes.com/health/guides/diseas...</td>\n",
       "    </tr>\n",
       "    <tr>\n",
       "      <th>9</th>\n",
       "      <td>City living</td>\n",
       "      <td>-2.5</td>\n",
       "      <td>suggestive</td>\n",
       "      <td>1</td>\n",
       "      <td>Both</td>\n",
       "      <td>positive</td>\n",
       "      <td>or living near a busy road</td>\n",
       "      <td>According to a Canada’s McMaster University st...</td>\n",
       "      <td>10</td>\n",
       "      <td>2004 study by Murray Finkelstein @ Canada McMa...</td>\n",
       "      <td>http://aje.oxfordjournals.org/content/160/2/17...</td>\n",
       "    </tr>\n",
       "  </tbody>\n",
       "</table>\n",
       "</div>"
      ],
      "text/plain": [
       "                             Factor  Years gained / lost strength of science?  \\\n",
       "0                           Smoking                -10.0               strong   \n",
       "1                      Sitting Down                 -3.0           suggestive   \n",
       "2                 Too much sleeping                 -1.5           suggestive   \n",
       "3                     More Optimism                  2.0           suggestive   \n",
       "4                         More Pets                  3.0                 good   \n",
       "5  more professional responsibility                  3.5           suggestive   \n",
       "6                    Healthy Eating                  7.0               strong   \n",
       "7                          Red Meat                 -1.0                 good   \n",
       "8             Alcohol (heavy abuse)                -11.0                 good   \n",
       "9                       City living                 -2.5           suggestive   \n",
       "\n",
       "   strength of science as a number sexes affected    effect  \\\n",
       "0                                3           Both  negative   \n",
       "1                                1           Both  negative   \n",
       "2                                1           Both  negative   \n",
       "3                                1         Female  positive   \n",
       "4                                2           Both  positive   \n",
       "5                                1           Male  positive   \n",
       "6                                3           Both  positive   \n",
       "7                                2           Both  positive   \n",
       "8                                2           Both  positive   \n",
       "9                                1           Both  positive   \n",
       "\n",
       "                                             Comment  \\\n",
       "0  10 years gained (against those who continue to...   \n",
       "1                       for 8-11 hours sitting a day   \n",
       "2          7 hours ideal, no more than 8 hrs a night   \n",
       "3  & faith in fellow humans. calc takes average %...   \n",
       "4  particularly for elderly. calc assumes that he...   \n",
       "5  higher and managerial professionals live longe...   \n",
       "6  Japanese / Mediterannean diet will lengthen li...   \n",
       "7                                There is no comment   \n",
       "8                                       a lot is bad   \n",
       "9                         or living near a busy road   \n",
       "\n",
       "                                                Note  ID  \\\n",
       "0  14 if combined with exercise and eating health...   1   \n",
       "1  No matter how much you exercise, sitting too m...   2   \n",
       "2  Averaging more than 8 hours sleep a night will...   3   \n",
       "3  Women within the highest 25% of optimism score...   4   \n",
       "4  (1) Cats - According to a study by the Minneso...   5   \n",
       "5  At age 65, LE of males (2002-06) classified by...   6   \n",
       "6  Figure given for Mediterannean diet. JAPANESE:...   7   \n",
       "7  risk of dying in a given year increases by 13%...   8   \n",
       "8  Alcoholism reduces life expectancy by about 10...   9   \n",
       "9  According to a Canada’s McMaster University st...  10   \n",
       "\n",
       "                                             Sources  \\\n",
       "0  Khaw KT, et al. (2008). Combined impact of hea...   \n",
       "1  Sydney School of Public Health research paper ...   \n",
       "2                                      New Scientist   \n",
       "3  Source: Hilary A. Tindle, M.D., assistant prof...   \n",
       "4  Medical News Today; National Center for Biotec...   \n",
       "5                   Longevity Science Advisory Panel   \n",
       "6  Amazon (book) The Okinawa Program : How the Wo...   \n",
       "7                                           BBC News   \n",
       "8                                     New York Times   \n",
       "9  2004 study by Murray Finkelstein @ Canada McMa...   \n",
       "\n",
       "                                               Links  \n",
       "0  http://www.washingtonpost.com/wp-dyn/articles/...  \n",
       "1        http://www.ncbi.nlm.nih.gov/pubmed/22450936  \n",
       "2  http://www.newscientist.com/article/dn1928-sev...  \n",
       "3  www.nlm.nih.gov/medlineplus/news/fullstory_879...  \n",
       "4  http://www.medicalnewstoday.com/articles/98432...  \n",
       "5  http://www.longevitypanel.co.uk/docs/life-expe...  \n",
       "6  http://www.amazon.com/Okinawa-Program-Longest-...  \n",
       "7        http://www.bbc.co.uk/news/magazine-17389938  \n",
       "8  http://health.nytimes.com/health/guides/diseas...  \n",
       "9  http://aje.oxfordjournals.org/content/160/2/17...  "
      ]
     },
     "execution_count": 129,
     "metadata": {},
     "output_type": "execute_result"
    }
   ],
   "source": [
    "df.head(10)"
   ]
  },
  {
   "cell_type": "code",
   "execution_count": 130,
   "metadata": {
    "execution": {
     "iopub.execute_input": "2023-08-29T08:40:26.899219Z",
     "iopub.status.busy": "2023-08-29T08:40:26.898553Z",
     "iopub.status.idle": "2023-08-29T08:40:26.907987Z",
     "shell.execute_reply": "2023-08-29T08:40:26.907180Z",
     "shell.execute_reply.started": "2023-08-29T08:40:26.899185Z"
    }
   },
   "outputs": [
    {
     "name": "stdout",
     "output_type": "stream",
     "text": [
      "['strong' 'suggestive' 'good']\n"
     ]
    }
   ],
   "source": [
    "#len(df[\"strength of science?\"].unique())\n",
    "print(df[\"strength of science?\"].unique())"
   ]
  },
  {
   "cell_type": "code",
   "execution_count": 131,
   "metadata": {
    "execution": {
     "iopub.execute_input": "2023-08-29T08:40:26.910056Z",
     "iopub.status.busy": "2023-08-29T08:40:26.909052Z",
     "iopub.status.idle": "2023-08-29T08:40:26.946603Z",
     "shell.execute_reply": "2023-08-29T08:40:26.945245Z",
     "shell.execute_reply.started": "2023-08-29T08:40:26.910020Z"
    }
   },
   "outputs": [
    {
     "name": "stdout",
     "output_type": "stream",
     "text": [
      "<class 'pandas.core.frame.DataFrame'>\n",
      "RangeIndex: 35 entries, 0 to 34\n",
      "Data columns (total 11 columns):\n",
      " #   Column                           Non-Null Count  Dtype  \n",
      "---  ------                           --------------  -----  \n",
      " 0   Factor                           35 non-null     object \n",
      " 1   Years gained / lost              35 non-null     float64\n",
      " 2   strength of science?             35 non-null     object \n",
      " 3   strength of science as a number  35 non-null     int64  \n",
      " 4   sexes affected                   35 non-null     object \n",
      " 5   effect                           35 non-null     object \n",
      " 6   Comment                          35 non-null     object \n",
      " 7   Note                             35 non-null     object \n",
      " 8   ID                               35 non-null     int64  \n",
      " 9   Sources                          35 non-null     object \n",
      " 10  Links                            35 non-null     object \n",
      "dtypes: float64(1), int64(2), object(8)\n",
      "memory usage: 3.1+ KB\n"
     ]
    }
   ],
   "source": [
    "df.info()"
   ]
  },
  {
   "cell_type": "code",
   "execution_count": 132,
   "metadata": {
    "execution": {
     "iopub.execute_input": "2023-08-29T08:40:26.948531Z",
     "iopub.status.busy": "2023-08-29T08:40:26.948141Z",
     "iopub.status.idle": "2023-08-29T08:40:26.961913Z",
     "shell.execute_reply": "2023-08-29T08:40:26.960553Z",
     "shell.execute_reply.started": "2023-08-29T08:40:26.948498Z"
    }
   },
   "outputs": [
    {
     "data": {
      "text/html": [
       "<div>\n",
       "<style scoped>\n",
       "    .dataframe tbody tr th:only-of-type {\n",
       "        vertical-align: middle;\n",
       "    }\n",
       "\n",
       "    .dataframe tbody tr th {\n",
       "        vertical-align: top;\n",
       "    }\n",
       "\n",
       "    .dataframe thead th {\n",
       "        text-align: right;\n",
       "    }\n",
       "</style>\n",
       "<table border=\"1\" class=\"dataframe\">\n",
       "  <thead>\n",
       "    <tr style=\"text-align: right;\">\n",
       "      <th></th>\n",
       "      <th>index</th>\n",
       "      <th>strength of science as a number</th>\n",
       "    </tr>\n",
       "  </thead>\n",
       "  <tbody>\n",
       "    <tr>\n",
       "      <th>0</th>\n",
       "      <td>0</td>\n",
       "      <td>1</td>\n",
       "    </tr>\n",
       "  </tbody>\n",
       "</table>\n",
       "</div>"
      ],
      "text/plain": [
       "   index  strength of science as a number\n",
       "0      0                                1"
      ]
     },
     "execution_count": 132,
     "metadata": {},
     "output_type": "execute_result"
    }
   ],
   "source": [
    "#df.groupby([\"Factor\"])[\"strength of science as a number\"].mode().reset_index()\n",
    "df[\"strength of science as a number\"].mode().reset_index()"
   ]
  },
  {
   "cell_type": "code",
   "execution_count": 133,
   "metadata": {
    "execution": {
     "iopub.execute_input": "2023-08-29T08:40:26.964395Z",
     "iopub.status.busy": "2023-08-29T08:40:26.963720Z",
     "iopub.status.idle": "2023-08-29T08:40:27.728885Z",
     "shell.execute_reply": "2023-08-29T08:40:27.727329Z",
     "shell.execute_reply.started": "2023-08-29T08:40:26.964358Z"
    }
   },
   "outputs": [
    {
     "data": {
      "image/png": "[encoded data removed]",
      "text/plain": [
       "<Figure size 1000x800 with 1 Axes>"
      ]
     },
     "metadata": {},
     "output_type": "display_data"
    }
   ],
   "source": [
    "fig = plt.figure(figsize = (10, 8))\n",
    "\n",
    "# creating the bar plot\n",
    "plt.bar(df[\"Factor\"], \n",
    "        df[\"Years gained / lost\"], \n",
    "        color ='maroon',\n",
    "        width = 0.4)\n",
    " \n",
    "plt.xlabel(\"Factor\")\n",
    "plt.ylabel(\"Years gained / lost\")\n",
    "plt.title(\"Years gained / lost for Factors\")\n",
    "plt.xticks(rotation = 85)\n",
    "plt.grid()\n",
    "\n",
    "plt.show()"
   ]
  },
  {
   "cell_type": "markdown",
   "metadata": {},
   "source": [
    "Mental illness is the most life-shortening factor."
   ]
  },
  {
   "cell_type": "code",
   "execution_count": 134,
   "metadata": {
    "execution": {
     "iopub.execute_input": "2023-08-29T08:45:31.279558Z",
     "iopub.status.busy": "2023-08-29T08:45:31.279063Z",
     "iopub.status.idle": "2023-08-29T08:45:34.101549Z",
     "shell.execute_reply": "2023-08-29T08:45:34.100131Z",
     "shell.execute_reply.started": "2023-08-29T08:45:31.279521Z"
    }
   },
   "outputs": [
    {
     "data": {
      "application/vnd.plotly.v1+json": {
       "config": {
        "plotlyServerURL": "https://plot.ly"
       },
       "data": [
        {
         "domain": {
          "x": [
           0,
           1
          ],
          "y": [
           0,
           1
          ]
         },
         "hole": 0.35,
         "hovertemplate": "label=%{label}<br>effect=%{value}<extra></extra>",
         "labels": [
          "positive",
          "negative"
         ],
         "legendgroup": "",
         "name": "",
         "opacity": 0.8,
         "showlegend": true,
         "textinfo": "percent+label",
         "textposition": "outside",
         "type": "pie",
         "values": [
          31,
          4
         ]
        }
       ],
       "layout": {
        "legend": {
         "tracegroupgap": 0
        },
        "margin": {
         "t": 60
        },
        "template": {
         "data": {
          "bar": [
           {
            "error_x": {
             "color": "#2a3f5f"
            },
            "error_y": {
             "color": "#2a3f5f"
            },
            "marker": {
             "line": {
              "color": "#E5ECF6",
              "width": 0.5
             },
             "pattern": {
              "fillmode": "overlay",
              "size": 10,
              "solidity": 0.2
             }
            },
            "type": "bar"
           }
          ],
          "barpolar": [
           {
            "marker": {
             "line": {
              "color": "#E5ECF6",
              "width": 0.5
             },
             "pattern": {
              "fillmode": "overlay",
              "size": 10,
              "solidity": 0.2
             }
            },
            "type": "barpolar"
           }
          ],
          "carpet": [
           {
            "aaxis": {
             "endlinecolor": "#2a3f5f",
             "gridcolor": "white",
             "linecolor": "white",
             "minorgridcolor": "white",
             "startlinecolor": "#2a3f5f"
            },
            "baxis": {
             "endlinecolor": "#2a3f5f",
             "gridcolor": "white",
             "linecolor": "white",
             "minorgridcolor": "white",
             "startlinecolor": "#2a3f5f"
            },
            "type": "carpet"
           }
          ],
          "choropleth": [
           {
            "colorbar": {
             "outlinewidth": 0,
             "ticks": ""
            },
            "type": "choropleth"
           }
          ],
          "contour": [
           {
            "colorbar": {
             "outlinewidth": 0,
             "ticks": ""
            },
            "colorscale": [
             [
              0,
              "#0d0887"
             ],
             [
              0.1111111111111111,
              "#46039f"
             ],
             [
              0.2222222222222222,
              "#7201a8"
             ],
             [
              0.3333333333333333,
              "#9c179e"
             ],
             [
              0.4444444444444444,
              "#bd3786"
             ],
             [
              0.5555555555555556,
              "#d8576b"
             ],
             [
              0.6666666666666666,
              "#ed7953"
             ],
             [
              0.7777777777777778,
              "#fb9f3a"
             ],
             [
              0.8888888888888888,
              "#fdca26"
             ],
             [
              1,
              "#f0f921"
             ]
            ],
            "type": "contour"
           }
          ],
          "contourcarpet": [
           {
            "colorbar": {
             "outlinewidth": 0,
             "ticks": ""
            },
            "type": "contourcarpet"
           }
          ],
          "heatmap": [
           {
            "colorbar": {
             "outlinewidth": 0,
             "ticks": ""
            },
            "colorscale": [
             [
              0,
              "#0d0887"
             ],
             [
              0.1111111111111111,
              "#46039f"
             ],
             [
              0.2222222222222222,
              "#7201a8"
             ],
             [
              0.3333333333333333,
              "#9c179e"
             ],
             [
              0.4444444444444444,
              "#bd3786"
             ],
             [
              0.5555555555555556,
              "#d8576b"
             ],
             [
              0.6666666666666666,
              "#ed7953"
             ],
             [
              0.7777777777777778,
              "#fb9f3a"
             ],
             [
              0.8888888888888888,
              "#fdca26"
             ],
             [
              1,
              "#f0f921"
             ]
            ],
            "type": "heatmap"
           }
          ],
          "heatmapgl": [
           {
            "colorbar": {
             "outlinewidth": 0,
             "ticks": ""
            },
            "colorscale": [
             [
              0,
              "#0d0887"
             ],
             [
              0.1111111111111111,
              "#46039f"
             ],
             [
              0.2222222222222222,
              "#7201a8"
             ],
             [
              0.3333333333333333,
              "#9c179e"
             ],
             [
              0.4444444444444444,
              "#bd3786"
             ],
             [
              0.5555555555555556,
              "#d8576b"
             ],
             [
              0.6666666666666666,
              "#ed7953"
             ],
             [
              0.7777777777777778,
              "#fb9f3a"
             ],
             [
              0.8888888888888888,
              "#fdca26"
             ],
             [
              1,
              "#f0f921"
             ]
            ],
            "type": "heatmapgl"
           }
          ],
          "histogram": [
           {
            "marker": {
             "pattern": {
              "fillmode": "overlay",
              "size": 10,
              "solidity": 0.2
             }
            },
            "type": "histogram"
           }
          ],
          "histogram2d": [
           {
            "colorbar": {
             "outlinewidth": 0,
             "ticks": ""
            },
            "colorscale": [
             [
              0,
              "#0d0887"
             ],
             [
              0.1111111111111111,
              "#46039f"
             ],
             [
              0.2222222222222222,
              "#7201a8"
             ],
             [
              0.3333333333333333,
              "#9c179e"
             ],
             [
              0.4444444444444444,
              "#bd3786"
             ],
             [
              0.5555555555555556,
              "#d8576b"
             ],
             [
              0.6666666666666666,
              "#ed7953"
             ],
             [
              0.7777777777777778,
              "#fb9f3a"
             ],
             [
              0.8888888888888888,
              "#fdca26"
             ],
             [
              1,
              "#f0f921"
             ]
            ],
            "type": "histogram2d"
           }
          ],
          "histogram2dcontour": [
           {
            "colorbar": {
             "outlinewidth": 0,
             "ticks": ""
            },
            "colorscale": [
             [
              0,
              "#0d0887"
             ],
             [
              0.1111111111111111,
              "#46039f"
             ],
             [
              0.2222222222222222,
              "#7201a8"
             ],
             [
              0.3333333333333333,
              "#9c179e"
             ],
             [
              0.4444444444444444,
              "#bd3786"
             ],
             [
              0.5555555555555556,
              "#d8576b"
             ],
             [
              0.6666666666666666,
              "#ed7953"
             ],
             [
              0.7777777777777778,
              "#fb9f3a"
             ],
             [
              0.8888888888888888,
              "#fdca26"
             ],
             [
              1,
              "#f0f921"
             ]
            ],
            "type": "histogram2dcontour"
           }
          ],
          "mesh3d": [
           {
            "colorbar": {
             "outlinewidth": 0,
             "ticks": ""
            },
            "type": "mesh3d"
           }
          ],
          "parcoords": [
           {
            "line": {
             "colorbar": {
              "outlinewidth": 0,
              "ticks": ""
             }
            },
            "type": "parcoords"
           }
          ],
          "pie": [
           {
            "automargin": true,
            "type": "pie"
           }
          ],
          "scatter": [
           {
            "fillpattern": {
             "fillmode": "overlay",
             "size": 10,
             "solidity": 0.2
            },
            "type": "scatter"
           }
          ],
          "scatter3d": [
           {
            "line": {
             "colorbar": {
              "outlinewidth": 0,
              "ticks": ""
             }
            },
            "marker": {
             "colorbar": {
              "outlinewidth": 0,
              "ticks": ""
             }
            },
            "type": "scatter3d"
           }
          ],
          "scattercarpet": [
           {
            "marker": {
             "colorbar": {
              "outlinewidth": 0,
              "ticks": ""
             }
            },
            "type": "scattercarpet"
           }
          ],
          "scattergeo": [
           {
            "marker": {
             "colorbar": {
              "outlinewidth": 0,
              "ticks": ""
             }
            },
            "type": "scattergeo"
           }
          ],
          "scattergl": [
           {
            "marker": {
             "colorbar": {
              "outlinewidth": 0,
              "ticks": ""
             }
            },
            "type": "scattergl"
           }
          ],
          "scattermapbox": [
           {
            "marker": {
             "colorbar": {
              "outlinewidth": 0,
              "ticks": ""
             }
            },
            "type": "scattermapbox"
           }
          ],
          "scatterpolar": [
           {
            "marker": {
             "colorbar": {
              "outlinewidth": 0,
              "ticks": ""
             }
            },
            "type": "scatterpolar"
           }
          ],
          "scatterpolargl": [
           {
            "marker": {
             "colorbar": {
              "outlinewidth": 0,
              "ticks": ""
             }
            },
            "type": "scatterpolargl"
           }
          ],
          "scatterternary": [
           {
            "marker": {
             "colorbar": {
              "outlinewidth": 0,
              "ticks": ""
             }
            },
            "type": "scatterternary"
           }
          ],
          "surface": [
           {
            "colorbar": {
             "outlinewidth": 0,
             "ticks": ""
            },
            "colorscale": [
             [
              0,
              "#0d0887"
             ],
             [
              0.1111111111111111,
              "#46039f"
             ],
             [
              0.2222222222222222,
              "#7201a8"
             ],
             [
              0.3333333333333333,
              "#9c179e"
             ],
             [
              0.4444444444444444,
              "#bd3786"
             ],
             [
              0.5555555555555556,
              "#d8576b"
             ],
             [
              0.6666666666666666,
              "#ed7953"
             ],
             [
              0.7777777777777778,
              "#fb9f3a"
             ],
             [
              0.8888888888888888,
              "#fdca26"
             ],
             [
              1,
              "#f0f921"
             ]
            ],
            "type": "surface"
           }
          ],
          "table": [
           {
            "cells": {
             "fill": {
              "color": "#EBF0F8"
             },
             "line": {
              "color": "white"
             }
            },
            "header": {
             "fill": {
              "color": "#C8D4E3"
             },
             "line": {
              "color": "white"
             }
            },
            "type": "table"
           }
          ]
         },
         "layout": {
          "annotationdefaults": {
           "arrowcolor": "#2a3f5f",
           "arrowhead": 0,
           "arrowwidth": 1
          },
          "autotypenumbers": "strict",
          "coloraxis": {
           "colorbar": {
            "outlinewidth": 0,
            "ticks": ""
           }
          },
          "colorscale": {
           "diverging": [
            [
             0,
             "#8e0152"
            ],
            [
             0.1,
             "#c51b7d"
            ],
            [
             0.2,
             "#de77ae"
            ],
            [
             0.3,
             "#f1b6da"
            ],
            [
             0.4,
             "#fde0ef"
            ],
            [
             0.5,
             "#f7f7f7"
            ],
            [
             0.6,
             "#e6f5d0"
            ],
            [
             0.7,
             "#b8e186"
            ],
            [
             0.8,
             "#7fbc41"
            ],
            [
             0.9,
             "#4d9221"
            ],
            [
             1,
             "#276419"
            ]
           ],
           "sequential": [
            [
             0,
             "#0d0887"
            ],
            [
             0.1111111111111111,
             "#46039f"
            ],
            [
             0.2222222222222222,
             "#7201a8"
            ],
            [
             0.3333333333333333,
             "#9c179e"
            ],
            [
             0.4444444444444444,
             "#bd3786"
            ],
            [
             0.5555555555555556,
             "#d8576b"
            ],
            [
             0.6666666666666666,
             "#ed7953"
            ],
            [
             0.7777777777777778,
             "#fb9f3a"
            ],
            [
             0.8888888888888888,
             "#fdca26"
            ],
            [
             1,
             "#f0f921"
            ]
           ],
           "sequentialminus": [
            [
             0,
             "#0d0887"
            ],
            [
             0.1111111111111111,
             "#46039f"
            ],
            [
             0.2222222222222222,
             "#7201a8"
            ],
            [
             0.3333333333333333,
             "#9c179e"
            ],
            [
             0.4444444444444444,
             "#bd3786"
            ],
            [
             0.5555555555555556,
             "#d8576b"
            ],
            [
             0.6666666666666666,
             "#ed7953"
            ],
            [
             0.7777777777777778,
             "#fb9f3a"
            ],
            [
             0.8888888888888888,
             "#fdca26"
            ],
            [
             1,
             "#f0f921"
            ]
           ]
          },
          "colorway": [
           "#636efa",
           "#EF553B",
           "#00cc96",
           "#ab63fa",
           "#FFA15A",
           "#19d3f3",
           "#FF6692",
           "#B6E880",
           "#FF97FF",
           "#FECB52"
          ],
          "font": {
           "color": "#2a3f5f"
          },
          "geo": {
           "bgcolor": "white",
           "lakecolor": "white",
           "landcolor": "#E5ECF6",
           "showlakes": true,
           "showland": true,
           "subunitcolor": "white"
          },
          "hoverlabel": {
           "align": "left"
          },
          "hovermode": "closest",
          "mapbox": {
           "style": "light"
          },
          "paper_bgcolor": "white",
          "plot_bgcolor": "#E5ECF6",
          "polar": {
           "angularaxis": {
            "gridcolor": "white",
            "linecolor": "white",
            "ticks": ""
           },
           "bgcolor": "#E5ECF6",
           "radialaxis": {
            "gridcolor": "white",
            "linecolor": "white",
            "ticks": ""
           }
          },
          "scene": {
           "xaxis": {
            "backgroundcolor": "#E5ECF6",
            "gridcolor": "white",
            "gridwidth": 2,
            "linecolor": "white",
            "showbackground": true,
            "ticks": "",
            "zerolinecolor": "white"
           },
           "yaxis": {
            "backgroundcolor": "#E5ECF6",
            "gridcolor": "white",
            "gridwidth": 2,
            "linecolor": "white",
            "showbackground": true,
            "ticks": "",
            "zerolinecolor": "white"
           },
           "zaxis": {
            "backgroundcolor": "#E5ECF6",
            "gridcolor": "white",
            "gridwidth": 2,
            "linecolor": "white",
            "showbackground": true,
            "ticks": "",
            "zerolinecolor": "white"
           }
          },
          "shapedefaults": {
           "line": {
            "color": "#2a3f5f"
           }
          },
          "ternary": {
           "aaxis": {
            "gridcolor": "white",
            "linecolor": "white",
            "ticks": ""
           },
           "baxis": {
            "gridcolor": "white",
            "linecolor": "white",
            "ticks": ""
           },
           "bgcolor": "#E5ECF6",
           "caxis": {
            "gridcolor": "white",
            "linecolor": "white",
            "ticks": ""
           }
          },
          "title": {
           "x": 0.05
          },
          "xaxis": {
           "automargin": true,
           "gridcolor": "white",
           "linecolor": "white",
           "ticks": "",
           "title": {
            "standoff": 15
           },
           "zerolinecolor": "white",
           "zerolinewidth": 2
          },
          "yaxis": {
           "automargin": true,
           "gridcolor": "white",
           "linecolor": "white",
           "ticks": "",
           "title": {
            "standoff": 15
           },
           "zerolinecolor": "white",
           "zerolinewidth": 2
          }
         }
        },
        "title": {
         "text": "Pie Chart of Effect Feature"
        }
       }
      },
      "text/html": [
       "<div>                            <div id=\"5522bb26-e6de-4cfd-b9a8-13609ad1d0e1\" class=\"plotly-graph-div\" style=\"height:525px; width:100%;\"></div>            <script type=\"text/javascript\">                require([\"plotly\"], function(Plotly) {                    window.PLOTLYENV=window.PLOTLYENV || {};                                    if (document.getElementById(\"5522bb26-e6de-4cfd-b9a8-13609ad1d0e1\")) {                    Plotly.newPlot(                        \"5522bb26-e6de-4cfd-b9a8-13609ad1d0e1\",                        [{\"domain\":{\"x\":[0.0,1.0],\"y\":[0.0,1.0]},\"hole\":0.35,\"hovertemplate\":\"label=%{label}<br>effect=%{value}<extra></extra>\",\"labels\":[\"positive\",\"negative\"],\"legendgroup\":\"\",\"name\":\"\",\"opacity\":0.8,\"showlegend\":true,\"values\":[31,4],\"type\":\"pie\",\"textinfo\":\"percent+label\",\"textposition\":\"outside\"}],                        {\"template\":{\"data\":{\"histogram2dcontour\":[{\"type\":\"histogram2dcontour\",\"colorbar\":{\"outlinewidth\":0,\"ticks\":\"\"},\"colorscale\":[[0.0,\"#0d0887\"],[0.1111111111111111,\"#46039f\"],[0.2222222222222222,\"#7201a8\"],[0.3333333333333333,\"#9c179e\"],[0.4444444444444444,\"#bd3786\"],[0.5555555555555556,\"#d8576b\"],[0.6666666666666666,\"#ed7953\"],[0.7777777777777778,\"#fb9f3a\"],[0.8888888888888888,\"#fdca26\"],[1.0,\"#f0f921\"]]}],\"choropleth\":[{\"type\":\"choropleth\",\"colorbar\":{\"outlinewidth\":0,\"ticks\":\"\"}}],\"histogram2d\":[{\"type\":\"histogram2d\",\"colorbar\":{\"outlinewidth\":0,\"ticks\":\"\"},\"colorscale\":[[0.0,\"#0d0887\"],[0.1111111111111111,\"#46039f\"],[0.2222222222222222,\"#7201a8\"],[0.3333333333333333,\"#9c179e\"],[0.4444444444444444,\"#bd3786\"],[0.5555555555555556,\"#d8576b\"],[0.6666666666666666,\"#ed7953\"],[0.7777777777777778,\"#fb9f3a\"],[0.8888888888888888,\"#fdca26\"],[1.0,\"#f0f921\"]]}],\"heatmap\":[{\"type\":\"heatmap\",\"colorbar\":{\"outlinewidth\":0,\"ticks\":\"\"},\"colorscale\":[[0.0,\"#0d0887\"],[0.1111111111111111,\"#46039f\"],[0.2222222222222222,\"#7201a8\"],[0.3333333333333333,\"#9c179e\"],[0.4444444444444444,\"#bd3786\"],[0.5555555555555556,\"#d8576b\"],[0.6666666666666666,\"#ed7953\"],[0.7777777777777778,\"#fb9f3a\"],[0.8888888888888888,\"#fdca26\"],[1.0,\"#f0f921\"]]}],\"heatmapgl\":[{\"type\":\"heatmapgl\",\"colorbar\":{\"outlinewidth\":0,\"ticks\":\"\"},\"colorscale\":[[0.0,\"#0d0887\"],[0.1111111111111111,\"#46039f\"],[0.2222222222222222,\"#7201a8\"],[0.3333333333333333,\"#9c179e\"],[0.4444444444444444,\"#bd3786\"],[0.5555555555555556,\"#d8576b\"],[0.6666666666666666,\"#ed7953\"],[0.7777777777777778,\"#fb9f3a\"],[0.8888888888888888,\"#fdca26\"],[1.0,\"#f0f921\"]]}],\"contourcarpet\":[{\"type\":\"contourcarpet\",\"colorbar\":{\"outlinewidth\":0,\"ticks\":\"\"}}],\"contour\":[{\"type\":\"contour\",\"colorbar\":{\"outlinewidth\":0,\"ticks\":\"\"},\"colorscale\":[[0.0,\"#0d0887\"],[0.1111111111111111,\"#46039f\"],[0.2222222222222222,\"#7201a8\"],[0.3333333333333333,\"#9c179e\"],[0.4444444444444444,\"#bd3786\"],[0.5555555555555556,\"#d8576b\"],[0.6666666666666666,\"#ed7953\"],[0.7777777777777778,\"#fb9f3a\"],[0.8888888888888888,\"#fdca26\"],[1.0,\"#f0f921\"]]}],\"surface\":[{\"type\":\"surface\",\"colorbar\":{\"outlinewidth\":0,\"ticks\":\"\"},\"colorscale\":[[0.0,\"#0d0887\"],[0.1111111111111111,\"#46039f\"],[0.2222222222222222,\"#7201a8\"],[0.3333333333333333,\"#9c179e\"],[0.4444444444444444,\"#bd3786\"],[0.5555555555555556,\"#d8576b\"],[0.6666666666666666,\"#ed7953\"],[0.7777777777777778,\"#fb9f3a\"],[0.8888888888888888,\"#fdca26\"],[1.0,\"#f0f921\"]]}],\"mesh3d\":[{\"type\":\"mesh3d\",\"colorbar\":{\"outlinewidth\":0,\"ticks\":\"\"}}],\"scatter\":[{\"fillpattern\":{\"fillmode\":\"overlay\",\"size\":10,\"solidity\":0.2},\"type\":\"scatter\"}],\"parcoords\":[{\"type\":\"parcoords\",\"line\":{\"colorbar\":{\"outlinewidth\":0,\"ticks\":\"\"}}}],\"scatterpolargl\":[{\"type\":\"scatterpolargl\",\"marker\":{\"colorbar\":{\"outlinewidth\":0,\"ticks\":\"\"}}}],\"bar\":[{\"error_x\":{\"color\":\"#2a3f5f\"},\"error_y\":{\"color\":\"#2a3f5f\"},\"marker\":{\"line\":{\"color\":\"#E5ECF6\",\"width\":0.5},\"pattern\":{\"fillmode\":\"overlay\",\"size\":10,\"solidity\":0.2}},\"type\":\"bar\"}],\"scattergeo\":[{\"type\":\"scattergeo\",\"marker\":{\"colorbar\":{\"outlinewidth\":0,\"ticks\":\"\"}}}],\"scatterpolar\":[{\"type\":\"scatterpolar\",\"marker\":{\"colorbar\":{\"outlinewidth\":0,\"ticks\":\"\"}}}],\"histogram\":[{\"marker\":{\"pattern\":{\"fillmode\":\"overlay\",\"size\":10,\"solidity\":0.2}},\"type\":\"histogram\"}],\"scattergl\":[{\"type\":\"scattergl\",\"marker\":{\"colorbar\":{\"outlinewidth\":0,\"ticks\":\"\"}}}],\"scatter3d\":[{\"type\":\"scatter3d\",\"line\":{\"colorbar\":{\"outlinewidth\":0,\"ticks\":\"\"}},\"marker\":{\"colorbar\":{\"outlinewidth\":0,\"ticks\":\"\"}}}],\"scattermapbox\":[{\"type\":\"scattermapbox\",\"marker\":{\"colorbar\":{\"outlinewidth\":0,\"ticks\":\"\"}}}],\"scatterternary\":[{\"type\":\"scatterternary\",\"marker\":{\"colorbar\":{\"outlinewidth\":0,\"ticks\":\"\"}}}],\"scattercarpet\":[{\"type\":\"scattercarpet\",\"marker\":{\"colorbar\":{\"outlinewidth\":0,\"ticks\":\"\"}}}],\"carpet\":[{\"aaxis\":{\"endlinecolor\":\"#2a3f5f\",\"gridcolor\":\"white\",\"linecolor\":\"white\",\"minorgridcolor\":\"white\",\"startlinecolor\":\"#2a3f5f\"},\"baxis\":{\"endlinecolor\":\"#2a3f5f\",\"gridcolor\":\"white\",\"linecolor\":\"white\",\"minorgridcolor\":\"white\",\"startlinecolor\":\"#2a3f5f\"},\"type\":\"carpet\"}],\"table\":[{\"cells\":{\"fill\":{\"color\":\"#EBF0F8\"},\"line\":{\"color\":\"white\"}},\"header\":{\"fill\":{\"color\":\"#C8D4E3\"},\"line\":{\"color\":\"white\"}},\"type\":\"table\"}],\"barpolar\":[{\"marker\":{\"line\":{\"color\":\"#E5ECF6\",\"width\":0.5},\"pattern\":{\"fillmode\":\"overlay\",\"size\":10,\"solidity\":0.2}},\"type\":\"barpolar\"}],\"pie\":[{\"automargin\":true,\"type\":\"pie\"}]},\"layout\":{\"autotypenumbers\":\"strict\",\"colorway\":[\"#636efa\",\"#EF553B\",\"#00cc96\",\"#ab63fa\",\"#FFA15A\",\"#19d3f3\",\"#FF6692\",\"#B6E880\",\"#FF97FF\",\"#FECB52\"],\"font\":{\"color\":\"#2a3f5f\"},\"hovermode\":\"closest\",\"hoverlabel\":{\"align\":\"left\"},\"paper_bgcolor\":\"white\",\"plot_bgcolor\":\"#E5ECF6\",\"polar\":{\"bgcolor\":\"#E5ECF6\",\"angularaxis\":{\"gridcolor\":\"white\",\"linecolor\":\"white\",\"ticks\":\"\"},\"radialaxis\":{\"gridcolor\":\"white\",\"linecolor\":\"white\",\"ticks\":\"\"}},\"ternary\":{\"bgcolor\":\"#E5ECF6\",\"aaxis\":{\"gridcolor\":\"white\",\"linecolor\":\"white\",\"ticks\":\"\"},\"baxis\":{\"gridcolor\":\"white\",\"linecolor\":\"white\",\"ticks\":\"\"},\"caxis\":{\"gridcolor\":\"white\",\"linecolor\":\"white\",\"ticks\":\"\"}},\"coloraxis\":{\"colorbar\":{\"outlinewidth\":0,\"ticks\":\"\"}},\"colorscale\":{\"sequential\":[[0.0,\"#0d0887\"],[0.1111111111111111,\"#46039f\"],[0.2222222222222222,\"#7201a8\"],[0.3333333333333333,\"#9c179e\"],[0.4444444444444444,\"#bd3786\"],[0.5555555555555556,\"#d8576b\"],[0.6666666666666666,\"#ed7953\"],[0.7777777777777778,\"#fb9f3a\"],[0.8888888888888888,\"#fdca26\"],[1.0,\"#f0f921\"]],\"sequentialminus\":[[0.0,\"#0d0887\"],[0.1111111111111111,\"#46039f\"],[0.2222222222222222,\"#7201a8\"],[0.3333333333333333,\"#9c179e\"],[0.4444444444444444,\"#bd3786\"],[0.5555555555555556,\"#d8576b\"],[0.6666666666666666,\"#ed7953\"],[0.7777777777777778,\"#fb9f3a\"],[0.8888888888888888,\"#fdca26\"],[1.0,\"#f0f921\"]],\"diverging\":[[0,\"#8e0152\"],[0.1,\"#c51b7d\"],[0.2,\"#de77ae\"],[0.3,\"#f1b6da\"],[0.4,\"#fde0ef\"],[0.5,\"#f7f7f7\"],[0.6,\"#e6f5d0\"],[0.7,\"#b8e186\"],[0.8,\"#7fbc41\"],[0.9,\"#4d9221\"],[1,\"#276419\"]]},\"xaxis\":{\"gridcolor\":\"white\",\"linecolor\":\"white\",\"ticks\":\"\",\"title\":{\"standoff\":15},\"zerolinecolor\":\"white\",\"automargin\":true,\"zerolinewidth\":2},\"yaxis\":{\"gridcolor\":\"white\",\"linecolor\":\"white\",\"ticks\":\"\",\"title\":{\"standoff\":15},\"zerolinecolor\":\"white\",\"automargin\":true,\"zerolinewidth\":2},\"scene\":{\"xaxis\":{\"backgroundcolor\":\"#E5ECF6\",\"gridcolor\":\"white\",\"linecolor\":\"white\",\"showbackground\":true,\"ticks\":\"\",\"zerolinecolor\":\"white\",\"gridwidth\":2},\"yaxis\":{\"backgroundcolor\":\"#E5ECF6\",\"gridcolor\":\"white\",\"linecolor\":\"white\",\"showbackground\":true,\"ticks\":\"\",\"zerolinecolor\":\"white\",\"gridwidth\":2},\"zaxis\":{\"backgroundcolor\":\"#E5ECF6\",\"gridcolor\":\"white\",\"linecolor\":\"white\",\"showbackground\":true,\"ticks\":\"\",\"zerolinecolor\":\"white\",\"gridwidth\":2}},\"shapedefaults\":{\"line\":{\"color\":\"#2a3f5f\"}},\"annotationdefaults\":{\"arrowcolor\":\"#2a3f5f\",\"arrowhead\":0,\"arrowwidth\":1},\"geo\":{\"bgcolor\":\"white\",\"landcolor\":\"#E5ECF6\",\"subunitcolor\":\"white\",\"showland\":true,\"showlakes\":true,\"lakecolor\":\"white\"},\"title\":{\"x\":0.05},\"mapbox\":{\"style\":\"light\"}}},\"legend\":{\"tracegroupgap\":0},\"margin\":{\"t\":60},\"title\":{\"text\":\"Pie Chart of Effect Feature\"}},                        {\"responsive\": true}                    ).then(function(){\n",
       "                            \n",
       "var gd = document.getElementById('5522bb26-e6de-4cfd-b9a8-13609ad1d0e1');\n",
       "var x = new MutationObserver(function (mutations, observer) {{\n",
       "        var display = window.getComputedStyle(gd).display;\n",
       "        if (!display || display === 'none') {{\n",
       "            console.log([gd, 'removed!']);\n",
       "            Plotly.purge(gd);\n",
       "            observer.disconnect();\n",
       "        }}\n",
       "}});\n",
       "\n",
       "// Listen for the removal of the full notebook cells\n",
       "var notebookContainer = gd.closest('#notebook-container');\n",
       "if (notebookContainer) {{\n",
       "    x.observe(notebookContainer, {childList: true});\n",
       "}}\n",
       "\n",
       "// Listen for the clearing of the current output cell\n",
       "var outputEl = gd.closest('.output');\n",
       "if (outputEl) {{\n",
       "    x.observe(outputEl, {childList: true});\n",
       "}}\n",
       "\n",
       "                        })                };                });            </script>        </div>"
      ]
     },
     "metadata": {},
     "output_type": "display_data"
    }
   ],
   "source": [
    "d = pd.DataFrame(df[\"effect\"].value_counts())\n",
    "fig = px.pie(d, \n",
    "             values = \"effect\", \n",
    "             names = [\"positive\", \"negative\"], \n",
    "             hole = 0.35, opacity = 0.8,\n",
    "             labels = {\"label\" :\"effect\",\"Effect\":\"Number of Samples\"})\n",
    "fig.update_layout(title = dict(text = \"Pie Chart of Effect Feature\"))\n",
    "fig.update_traces(textposition = \"outside\", textinfo = \"percent+label\")\n",
    "fig.show()"
   ]
  },
  {
   "cell_type": "code",
   "execution_count": 135,
   "metadata": {},
   "outputs": [
    {
     "data": {
      "text/plain": [
       "Index(['Factor', 'Years gained / lost', 'strength of science?',\n",
       "       'strength of science as a number', 'sexes affected', 'effect',\n",
       "       'Comment', 'Note', 'ID', 'Sources', 'Links'],\n",
       "      dtype='object')"
      ]
     },
     "execution_count": 135,
     "metadata": {},
     "output_type": "execute_result"
    }
   ],
   "source": [
    "df.columns"
   ]
  },
  {
   "cell_type": "code",
   "execution_count": 136,
   "metadata": {},
   "outputs": [
    {
     "data": {
      "text/plain": [
       "Both                             25\n",
       "Male                              5\n",
       "Female                            2\n",
       "Both, but esp. for men            1\n",
       "male                              1\n",
       "Both but especially for women     1\n",
       "Name: sexes affected, dtype: int64"
      ]
     },
     "execution_count": 136,
     "metadata": {},
     "output_type": "execute_result"
    }
   ],
   "source": [
    "df['sexes affected'].value_counts()"
   ]
  },
  {
   "cell_type": "code",
   "execution_count": 137,
   "metadata": {},
   "outputs": [
    {
     "data": {
      "text/html": [
       "<div>\n",
       "<style scoped>\n",
       "    .dataframe tbody tr th:only-of-type {\n",
       "        vertical-align: middle;\n",
       "    }\n",
       "\n",
       "    .dataframe tbody tr th {\n",
       "        vertical-align: top;\n",
       "    }\n",
       "\n",
       "    .dataframe thead th {\n",
       "        text-align: right;\n",
       "    }\n",
       "</style>\n",
       "<table border=\"1\" class=\"dataframe\">\n",
       "  <thead>\n",
       "    <tr style=\"text-align: right;\">\n",
       "      <th></th>\n",
       "      <th>Factor</th>\n",
       "      <th>Years gained / lost</th>\n",
       "      <th>strength of science?</th>\n",
       "      <th>strength of science as a number</th>\n",
       "      <th>sexes affected</th>\n",
       "      <th>effect</th>\n",
       "      <th>Comment</th>\n",
       "      <th>Note</th>\n",
       "      <th>ID</th>\n",
       "      <th>Sources</th>\n",
       "      <th>Links</th>\n",
       "    </tr>\n",
       "  </thead>\n",
       "  <tbody>\n",
       "    <tr>\n",
       "      <th>5</th>\n",
       "      <td>more professional responsibility</td>\n",
       "      <td>3.5</td>\n",
       "      <td>suggestive</td>\n",
       "      <td>1</td>\n",
       "      <td>Male</td>\n",
       "      <td>positive</td>\n",
       "      <td>higher and managerial professionals live longe...</td>\n",
       "      <td>At age 65, LE of males (2002-06) classified by...</td>\n",
       "      <td>6</td>\n",
       "      <td>Longevity Science Advisory Panel</td>\n",
       "      <td>http://www.longevitypanel.co.uk/docs/life-expe...</td>\n",
       "    </tr>\n",
       "    <tr>\n",
       "      <th>22</th>\n",
       "      <td>A little alcohol</td>\n",
       "      <td>2.0</td>\n",
       "      <td>suggestive</td>\n",
       "      <td>1</td>\n",
       "      <td>Male</td>\n",
       "      <td>positive</td>\n",
       "      <td>a little is fine</td>\n",
       "      <td>gain 2 years by consuming less than 2 units of...</td>\n",
       "      <td>23</td>\n",
       "      <td>Guardian; Wikipedia (units)</td>\n",
       "      <td>http://www.guardian.co.uk/society/2009/apr/30/...</td>\n",
       "    </tr>\n",
       "    <tr>\n",
       "      <th>24</th>\n",
       "      <td>Orgasms</td>\n",
       "      <td>4.0</td>\n",
       "      <td>suggestive</td>\n",
       "      <td>1</td>\n",
       "      <td>Male</td>\n",
       "      <td>positive</td>\n",
       "      <td>There is no comment</td>\n",
       "      <td>Dr Roizen - \"The typical man who has 350 orgas...</td>\n",
       "      <td>25</td>\n",
       "      <td>Men's Journal; Revista Mexicana de Anestesiología</td>\n",
       "      <td>http://www.mensjournal.com/health-fitness/heal...</td>\n",
       "    </tr>\n",
       "    <tr>\n",
       "      <th>25</th>\n",
       "      <td>A little wine</td>\n",
       "      <td>5.0</td>\n",
       "      <td>suggestive</td>\n",
       "      <td>1</td>\n",
       "      <td>Male</td>\n",
       "      <td>positive</td>\n",
       "      <td>a little wine is fine</td>\n",
       "      <td>gain 5 years by consuming less than 2 units of...</td>\n",
       "      <td>26</td>\n",
       "      <td>Guardian; Wikipedia (units)</td>\n",
       "      <td>http://www.guardian.co.uk/society/2009/apr/30/...</td>\n",
       "    </tr>\n",
       "    <tr>\n",
       "      <th>31</th>\n",
       "      <td>Polygamy</td>\n",
       "      <td>9.3</td>\n",
       "      <td>suggestive</td>\n",
       "      <td>1</td>\n",
       "      <td>Male</td>\n",
       "      <td>positive</td>\n",
       "      <td>polygamy</td>\n",
       "      <td>12% increase, compared to average lifespan</td>\n",
       "      <td>32</td>\n",
       "      <td>New Scientist</td>\n",
       "      <td>http://www.newscientist.com/article/dn14564-po...</td>\n",
       "    </tr>\n",
       "    <tr>\n",
       "      <th>3</th>\n",
       "      <td>More Optimism</td>\n",
       "      <td>2.0</td>\n",
       "      <td>suggestive</td>\n",
       "      <td>1</td>\n",
       "      <td>Female</td>\n",
       "      <td>positive</td>\n",
       "      <td>&amp; faith in fellow humans. calc takes average %...</td>\n",
       "      <td>Women within the highest 25% of optimism score...</td>\n",
       "      <td>4</td>\n",
       "      <td>Source: Hilary A. Tindle, M.D., assistant prof...</td>\n",
       "      <td>www.nlm.nih.gov/medlineplus/news/fullstory_879...</td>\n",
       "    </tr>\n",
       "    <tr>\n",
       "      <th>27</th>\n",
       "      <td>being a woman</td>\n",
       "      <td>5.1</td>\n",
       "      <td>good</td>\n",
       "      <td>2</td>\n",
       "      <td>Female</td>\n",
       "      <td>positive</td>\n",
       "      <td>There is no comment</td>\n",
       "      <td>US, 2006 - difference between male and female ...</td>\n",
       "      <td>28</td>\n",
       "      <td>Centres for Disease Control &amp; Prevention</td>\n",
       "      <td>www.cdc.gov/nchs/data/nvsr/nvsr57/nvsr57_14.pdf</td>\n",
       "    </tr>\n",
       "  </tbody>\n",
       "</table>\n",
       "</div>"
      ],
      "text/plain": [
       "                              Factor  Years gained / lost  \\\n",
       "5   more professional responsibility                  3.5   \n",
       "22                  A little alcohol                  2.0   \n",
       "24                           Orgasms                  4.0   \n",
       "25                     A little wine                  5.0   \n",
       "31                          Polygamy                  9.3   \n",
       "3                      More Optimism                  2.0   \n",
       "27                     being a woman                  5.1   \n",
       "\n",
       "   strength of science?  strength of science as a number sexes affected  \\\n",
       "5            suggestive                                1           Male   \n",
       "22           suggestive                                1           Male   \n",
       "24           suggestive                                1           Male   \n",
       "25           suggestive                                1           Male   \n",
       "31           suggestive                                1           Male   \n",
       "3            suggestive                                1         Female   \n",
       "27                 good                                2         Female   \n",
       "\n",
       "      effect                                            Comment  \\\n",
       "5   positive  higher and managerial professionals live longe...   \n",
       "22  positive                                   a little is fine   \n",
       "24  positive                                There is no comment   \n",
       "25  positive                              a little wine is fine   \n",
       "31  positive                                           polygamy   \n",
       "3   positive  & faith in fellow humans. calc takes average %...   \n",
       "27  positive                                There is no comment   \n",
       "\n",
       "                                                 Note  ID  \\\n",
       "5   At age 65, LE of males (2002-06) classified by...   6   \n",
       "22  gain 2 years by consuming less than 2 units of...  23   \n",
       "24  Dr Roizen - \"The typical man who has 350 orgas...  25   \n",
       "25  gain 5 years by consuming less than 2 units of...  26   \n",
       "31         12% increase, compared to average lifespan  32   \n",
       "3   Women within the highest 25% of optimism score...   4   \n",
       "27  US, 2006 - difference between male and female ...  28   \n",
       "\n",
       "                                              Sources  \\\n",
       "5                    Longevity Science Advisory Panel   \n",
       "22                        Guardian; Wikipedia (units)   \n",
       "24  Men's Journal; Revista Mexicana de Anestesiología   \n",
       "25                        Guardian; Wikipedia (units)   \n",
       "31                                      New Scientist   \n",
       "3   Source: Hilary A. Tindle, M.D., assistant prof...   \n",
       "27           Centres for Disease Control & Prevention   \n",
       "\n",
       "                                                Links  \n",
       "5   http://www.longevitypanel.co.uk/docs/life-expe...  \n",
       "22  http://www.guardian.co.uk/society/2009/apr/30/...  \n",
       "24  http://www.mensjournal.com/health-fitness/heal...  \n",
       "25  http://www.guardian.co.uk/society/2009/apr/30/...  \n",
       "31  http://www.newscientist.com/article/dn14564-po...  \n",
       "3   www.nlm.nih.gov/medlineplus/news/fullstory_879...  \n",
       "27    www.cdc.gov/nchs/data/nvsr/nvsr57/nvsr57_14.pdf  "
      ]
     },
     "execution_count": 137,
     "metadata": {},
     "output_type": "execute_result"
    }
   ],
   "source": [
    "df_filtered_male = df[df['sexes affected'] == 'Male'] \n",
    "df_filtere_female = df[df['sexes affected'] == 'Female'] \n",
    "df_filtered = pd.concat([df_filtered_male , df_filtere_female])\n",
    "df_filtered"
   ]
  },
  {
   "cell_type": "code",
   "execution_count": 138,
   "metadata": {},
   "outputs": [
    {
     "data": {
      "application/vnd.plotly.v1+json": {
       "config": {
        "plotlyServerURL": "https://plot.ly"
       },
       "data": [
        {
         "domain": {
          "x": [
           0,
           1
          ],
          "y": [
           0,
           1
          ]
         },
         "hole": 0.35,
         "hovertemplate": "label=%{label}<br>Number of Samples=%{value}<extra></extra>",
         "labels": [
          "more professional responsibility",
          "A little alcohol",
          "Orgasms",
          "A little wine",
          "Polygamy",
          "More Optimism",
          "being a woman"
         ],
         "legendgroup": "",
         "name": "",
         "opacity": 0.8,
         "showlegend": true,
         "textinfo": "percent+label",
         "textposition": "outside",
         "type": "pie",
         "values": [
          1,
          1,
          1,
          1,
          1,
          1,
          1
         ]
        }
       ],
       "layout": {
        "legend": {
         "tracegroupgap": 0
        },
        "margin": {
         "t": 60
        },
        "template": {
         "data": {
          "bar": [
           {
            "error_x": {
             "color": "#2a3f5f"
            },
            "error_y": {
             "color": "#2a3f5f"
            },
            "marker": {
             "line": {
              "color": "#E5ECF6",
              "width": 0.5
             },
             "pattern": {
              "fillmode": "overlay",
              "size": 10,
              "solidity": 0.2
             }
            },
            "type": "bar"
           }
          ],
          "barpolar": [
           {
            "marker": {
             "line": {
              "color": "#E5ECF6",
              "width": 0.5
             },
             "pattern": {
              "fillmode": "overlay",
              "size": 10,
              "solidity": 0.2
             }
            },
            "type": "barpolar"
           }
          ],
          "carpet": [
           {
            "aaxis": {
             "endlinecolor": "#2a3f5f",
             "gridcolor": "white",
             "linecolor": "white",
             "minorgridcolor": "white",
             "startlinecolor": "#2a3f5f"
            },
            "baxis": {
             "endlinecolor": "#2a3f5f",
             "gridcolor": "white",
             "linecolor": "white",
             "minorgridcolor": "white",
             "startlinecolor": "#2a3f5f"
            },
            "type": "carpet"
           }
          ],
          "choropleth": [
           {
            "colorbar": {
             "outlinewidth": 0,
             "ticks": ""
            },
            "type": "choropleth"
           }
          ],
          "contour": [
           {
            "colorbar": {
             "outlinewidth": 0,
             "ticks": ""
            },
            "colorscale": [
             [
              0,
              "#0d0887"
             ],
             [
              0.1111111111111111,
              "#46039f"
             ],
             [
              0.2222222222222222,
              "#7201a8"
             ],
             [
              0.3333333333333333,
              "#9c179e"
             ],
             [
              0.4444444444444444,
              "#bd3786"
             ],
             [
              0.5555555555555556,
              "#d8576b"
             ],
             [
              0.6666666666666666,
              "#ed7953"
             ],
             [
              0.7777777777777778,
              "#fb9f3a"
             ],
             [
              0.8888888888888888,
              "#fdca26"
             ],
             [
              1,
              "#f0f921"
             ]
            ],
            "type": "contour"
           }
          ],
          "contourcarpet": [
           {
            "colorbar": {
             "outlinewidth": 0,
             "ticks": ""
            },
            "type": "contourcarpet"
           }
          ],
          "heatmap": [
           {
            "colorbar": {
             "outlinewidth": 0,
             "ticks": ""
            },
            "colorscale": [
             [
              0,
              "#0d0887"
             ],
             [
              0.1111111111111111,
              "#46039f"
             ],
             [
              0.2222222222222222,
              "#7201a8"
             ],
             [
              0.3333333333333333,
              "#9c179e"
             ],
             [
              0.4444444444444444,
              "#bd3786"
             ],
             [
              0.5555555555555556,
              "#d8576b"
             ],
             [
              0.6666666666666666,
              "#ed7953"
             ],
             [
              0.7777777777777778,
              "#fb9f3a"
             ],
             [
              0.8888888888888888,
              "#fdca26"
             ],
             [
              1,
              "#f0f921"
             ]
            ],
            "type": "heatmap"
           }
          ],
          "heatmapgl": [
           {
            "colorbar": {
             "outlinewidth": 0,
             "ticks": ""
            },
            "colorscale": [
             [
              0,
              "#0d0887"
             ],
             [
              0.1111111111111111,
              "#46039f"
             ],
             [
              0.2222222222222222,
              "#7201a8"
             ],
             [
              0.3333333333333333,
              "#9c179e"
             ],
             [
              0.4444444444444444,
              "#bd3786"
             ],
             [
              0.5555555555555556,
              "#d8576b"
             ],
             [
              0.6666666666666666,
              "#ed7953"
             ],
             [
              0.7777777777777778,
              "#fb9f3a"
             ],
             [
              0.8888888888888888,
              "#fdca26"
             ],
             [
              1,
              "#f0f921"
             ]
            ],
            "type": "heatmapgl"
           }
          ],
          "histogram": [
           {
            "marker": {
             "pattern": {
              "fillmode": "overlay",
              "size": 10,
              "solidity": 0.2
             }
            },
            "type": "histogram"
           }
          ],
          "histogram2d": [
           {
            "colorbar": {
             "outlinewidth": 0,
             "ticks": ""
            },
            "colorscale": [
             [
              0,
              "#0d0887"
             ],
             [
              0.1111111111111111,
              "#46039f"
             ],
             [
              0.2222222222222222,
              "#7201a8"
             ],
             [
              0.3333333333333333,
              "#9c179e"
             ],
             [
              0.4444444444444444,
              "#bd3786"
             ],
             [
              0.5555555555555556,
              "#d8576b"
             ],
             [
              0.6666666666666666,
              "#ed7953"
             ],
             [
              0.7777777777777778,
              "#fb9f3a"
             ],
             [
              0.8888888888888888,
              "#fdca26"
             ],
             [
              1,
              "#f0f921"
             ]
            ],
            "type": "histogram2d"
           }
          ],
          "histogram2dcontour": [
           {
            "colorbar": {
             "outlinewidth": 0,
             "ticks": ""
            },
            "colorscale": [
             [
              0,
              "#0d0887"
             ],
             [
              0.1111111111111111,
              "#46039f"
             ],
             [
              0.2222222222222222,
              "#7201a8"
             ],
             [
              0.3333333333333333,
              "#9c179e"
             ],
             [
              0.4444444444444444,
              "#bd3786"
             ],
             [
              0.5555555555555556,
              "#d8576b"
             ],
             [
              0.6666666666666666,
              "#ed7953"
             ],
             [
              0.7777777777777778,
              "#fb9f3a"
             ],
             [
              0.8888888888888888,
              "#fdca26"
             ],
             [
              1,
              "#f0f921"
             ]
            ],
            "type": "histogram2dcontour"
           }
          ],
          "mesh3d": [
           {
            "colorbar": {
             "outlinewidth": 0,
             "ticks": ""
            },
            "type": "mesh3d"
           }
          ],
          "parcoords": [
           {
            "line": {
             "colorbar": {
              "outlinewidth": 0,
              "ticks": ""
             }
            },
            "type": "parcoords"
           }
          ],
          "pie": [
           {
            "automargin": true,
            "type": "pie"
           }
          ],
          "scatter": [
           {
            "fillpattern": {
             "fillmode": "overlay",
             "size": 10,
             "solidity": 0.2
            },
            "type": "scatter"
           }
          ],
          "scatter3d": [
           {
            "line": {
             "colorbar": {
              "outlinewidth": 0,
              "ticks": ""
             }
            },
            "marker": {
             "colorbar": {
              "outlinewidth": 0,
              "ticks": ""
             }
            },
            "type": "scatter3d"
           }
          ],
          "scattercarpet": [
           {
            "marker": {
             "colorbar": {
              "outlinewidth": 0,
              "ticks": ""
             }
            },
            "type": "scattercarpet"
           }
          ],
          "scattergeo": [
           {
            "marker": {
             "colorbar": {
              "outlinewidth": 0,
              "ticks": ""
             }
            },
            "type": "scattergeo"
           }
          ],
          "scattergl": [
           {
            "marker": {
             "colorbar": {
              "outlinewidth": 0,
              "ticks": ""
             }
            },
            "type": "scattergl"
           }
          ],
          "scattermapbox": [
           {
            "marker": {
             "colorbar": {
              "outlinewidth": 0,
              "ticks": ""
             }
            },
            "type": "scattermapbox"
           }
          ],
          "scatterpolar": [
           {
            "marker": {
             "colorbar": {
              "outlinewidth": 0,
              "ticks": ""
             }
            },
            "type": "scatterpolar"
           }
          ],
          "scatterpolargl": [
           {
            "marker": {
             "colorbar": {
              "outlinewidth": 0,
              "ticks": ""
             }
            },
            "type": "scatterpolargl"
           }
          ],
          "scatterternary": [
           {
            "marker": {
             "colorbar": {
              "outlinewidth": 0,
              "ticks": ""
             }
            },
            "type": "scatterternary"
           }
          ],
          "surface": [
           {
            "colorbar": {
             "outlinewidth": 0,
             "ticks": ""
            },
            "colorscale": [
             [
              0,
              "#0d0887"
             ],
             [
              0.1111111111111111,
              "#46039f"
             ],
             [
              0.2222222222222222,
              "#7201a8"
             ],
             [
              0.3333333333333333,
              "#9c179e"
             ],
             [
              0.4444444444444444,
              "#bd3786"
             ],
             [
              0.5555555555555556,
              "#d8576b"
             ],
             [
              0.6666666666666666,
              "#ed7953"
             ],
             [
              0.7777777777777778,
              "#fb9f3a"
             ],
             [
              0.8888888888888888,
              "#fdca26"
             ],
             [
              1,
              "#f0f921"
             ]
            ],
            "type": "surface"
           }
          ],
          "table": [
           {
            "cells": {
             "fill": {
              "color": "#EBF0F8"
             },
             "line": {
              "color": "white"
             }
            },
            "header": {
             "fill": {
              "color": "#C8D4E3"
             },
             "line": {
              "color": "white"
             }
            },
            "type": "table"
           }
          ]
         },
         "layout": {
          "annotationdefaults": {
           "arrowcolor": "#2a3f5f",
           "arrowhead": 0,
           "arrowwidth": 1
          },
          "autotypenumbers": "strict",
          "coloraxis": {
           "colorbar": {
            "outlinewidth": 0,
            "ticks": ""
           }
          },
          "colorscale": {
           "diverging": [
            [
             0,
             "#8e0152"
            ],
            [
             0.1,
             "#c51b7d"
            ],
            [
             0.2,
             "#de77ae"
            ],
            [
             0.3,
             "#f1b6da"
            ],
            [
             0.4,
             "#fde0ef"
            ],
            [
             0.5,
             "#f7f7f7"
            ],
            [
             0.6,
             "#e6f5d0"
            ],
            [
             0.7,
             "#b8e186"
            ],
            [
             0.8,
             "#7fbc41"
            ],
            [
             0.9,
             "#4d9221"
            ],
            [
             1,
             "#276419"
            ]
           ],
           "sequential": [
            [
             0,
             "#0d0887"
            ],
            [
             0.1111111111111111,
             "#46039f"
            ],
            [
             0.2222222222222222,
             "#7201a8"
            ],
            [
             0.3333333333333333,
             "#9c179e"
            ],
            [
             0.4444444444444444,
             "#bd3786"
            ],
            [
             0.5555555555555556,
             "#d8576b"
            ],
            [
             0.6666666666666666,
             "#ed7953"
            ],
            [
             0.7777777777777778,
             "#fb9f3a"
            ],
            [
             0.8888888888888888,
             "#fdca26"
            ],
            [
             1,
             "#f0f921"
            ]
           ],
           "sequentialminus": [
            [
             0,
             "#0d0887"
            ],
            [
             0.1111111111111111,
             "#46039f"
            ],
            [
             0.2222222222222222,
             "#7201a8"
            ],
            [
             0.3333333333333333,
             "#9c179e"
            ],
            [
             0.4444444444444444,
             "#bd3786"
            ],
            [
             0.5555555555555556,
             "#d8576b"
            ],
            [
             0.6666666666666666,
             "#ed7953"
            ],
            [
             0.7777777777777778,
             "#fb9f3a"
            ],
            [
             0.8888888888888888,
             "#fdca26"
            ],
            [
             1,
             "#f0f921"
            ]
           ]
          },
          "colorway": [
           "#636efa",
           "#EF553B",
           "#00cc96",
           "#ab63fa",
           "#FFA15A",
           "#19d3f3",
           "#FF6692",
           "#B6E880",
           "#FF97FF",
           "#FECB52"
          ],
          "font": {
           "color": "#2a3f5f"
          },
          "geo": {
           "bgcolor": "white",
           "lakecolor": "white",
           "landcolor": "#E5ECF6",
           "showlakes": true,
           "showland": true,
           "subunitcolor": "white"
          },
          "hoverlabel": {
           "align": "left"
          },
          "hovermode": "closest",
          "mapbox": {
           "style": "light"
          },
          "paper_bgcolor": "white",
          "plot_bgcolor": "#E5ECF6",
          "polar": {
           "angularaxis": {
            "gridcolor": "white",
            "linecolor": "white",
            "ticks": ""
           },
           "bgcolor": "#E5ECF6",
           "radialaxis": {
            "gridcolor": "white",
            "linecolor": "white",
            "ticks": ""
           }
          },
          "scene": {
           "xaxis": {
            "backgroundcolor": "#E5ECF6",
            "gridcolor": "white",
            "gridwidth": 2,
            "linecolor": "white",
            "showbackground": true,
            "ticks": "",
            "zerolinecolor": "white"
           },
           "yaxis": {
            "backgroundcolor": "#E5ECF6",
            "gridcolor": "white",
            "gridwidth": 2,
            "linecolor": "white",
            "showbackground": true,
            "ticks": "",
            "zerolinecolor": "white"
           },
           "zaxis": {
            "backgroundcolor": "#E5ECF6",
            "gridcolor": "white",
            "gridwidth": 2,
            "linecolor": "white",
            "showbackground": true,
            "ticks": "",
            "zerolinecolor": "white"
           }
          },
          "shapedefaults": {
           "line": {
            "color": "#2a3f5f"
           }
          },
          "ternary": {
           "aaxis": {
            "gridcolor": "white",
            "linecolor": "white",
            "ticks": ""
           },
           "baxis": {
            "gridcolor": "white",
            "linecolor": "white",
            "ticks": ""
           },
           "bgcolor": "#E5ECF6",
           "caxis": {
            "gridcolor": "white",
            "linecolor": "white",
            "ticks": ""
           }
          },
          "title": {
           "x": 0.05
          },
          "xaxis": {
           "automargin": true,
           "gridcolor": "white",
           "linecolor": "white",
           "ticks": "",
           "title": {
            "standoff": 15
           },
           "zerolinecolor": "white",
           "zerolinewidth": 2
          },
          "yaxis": {
           "automargin": true,
           "gridcolor": "white",
           "linecolor": "white",
           "ticks": "",
           "title": {
            "standoff": 15
           },
           "zerolinecolor": "white",
           "zerolinewidth": 2
          }
         }
        },
        "title": {
         "text": "Pie Chart of Factor Feature"
        }
       }
      },
      "text/html": [
       "<div>                            <div id=\"1258daa0-d93f-42c1-8143-b144752b96ce\" class=\"plotly-graph-div\" style=\"height:525px; width:100%;\"></div>            <script type=\"text/javascript\">                require([\"plotly\"], function(Plotly) {                    window.PLOTLYENV=window.PLOTLYENV || {};                                    if (document.getElementById(\"1258daa0-d93f-42c1-8143-b144752b96ce\")) {                    Plotly.newPlot(                        \"1258daa0-d93f-42c1-8143-b144752b96ce\",                        [{\"domain\":{\"x\":[0.0,1.0],\"y\":[0.0,1.0]},\"hole\":0.35,\"hovertemplate\":\"label=%{label}<br>Number of Samples=%{value}<extra></extra>\",\"labels\":[\"more professional responsibility\",\"A little alcohol\",\"Orgasms\",\"A little wine\",\"Polygamy\",\"More Optimism\",\"being a woman\"],\"legendgroup\":\"\",\"name\":\"\",\"opacity\":0.8,\"showlegend\":true,\"values\":[1,1,1,1,1,1,1],\"type\":\"pie\",\"textinfo\":\"percent+label\",\"textposition\":\"outside\"}],                        {\"template\":{\"data\":{\"histogram2dcontour\":[{\"type\":\"histogram2dcontour\",\"colorbar\":{\"outlinewidth\":0,\"ticks\":\"\"},\"colorscale\":[[0.0,\"#0d0887\"],[0.1111111111111111,\"#46039f\"],[0.2222222222222222,\"#7201a8\"],[0.3333333333333333,\"#9c179e\"],[0.4444444444444444,\"#bd3786\"],[0.5555555555555556,\"#d8576b\"],[0.6666666666666666,\"#ed7953\"],[0.7777777777777778,\"#fb9f3a\"],[0.8888888888888888,\"#fdca26\"],[1.0,\"#f0f921\"]]}],\"choropleth\":[{\"type\":\"choropleth\",\"colorbar\":{\"outlinewidth\":0,\"ticks\":\"\"}}],\"histogram2d\":[{\"type\":\"histogram2d\",\"colorbar\":{\"outlinewidth\":0,\"ticks\":\"\"},\"colorscale\":[[0.0,\"#0d0887\"],[0.1111111111111111,\"#46039f\"],[0.2222222222222222,\"#7201a8\"],[0.3333333333333333,\"#9c179e\"],[0.4444444444444444,\"#bd3786\"],[0.5555555555555556,\"#d8576b\"],[0.6666666666666666,\"#ed7953\"],[0.7777777777777778,\"#fb9f3a\"],[0.8888888888888888,\"#fdca26\"],[1.0,\"#f0f921\"]]}],\"heatmap\":[{\"type\":\"heatmap\",\"colorbar\":{\"outlinewidth\":0,\"ticks\":\"\"},\"colorscale\":[[0.0,\"#0d0887\"],[0.1111111111111111,\"#46039f\"],[0.2222222222222222,\"#7201a8\"],[0.3333333333333333,\"#9c179e\"],[0.4444444444444444,\"#bd3786\"],[0.5555555555555556,\"#d8576b\"],[0.6666666666666666,\"#ed7953\"],[0.7777777777777778,\"#fb9f3a\"],[0.8888888888888888,\"#fdca26\"],[1.0,\"#f0f921\"]]}],\"heatmapgl\":[{\"type\":\"heatmapgl\",\"colorbar\":{\"outlinewidth\":0,\"ticks\":\"\"},\"colorscale\":[[0.0,\"#0d0887\"],[0.1111111111111111,\"#46039f\"],[0.2222222222222222,\"#7201a8\"],[0.3333333333333333,\"#9c179e\"],[0.4444444444444444,\"#bd3786\"],[0.5555555555555556,\"#d8576b\"],[0.6666666666666666,\"#ed7953\"],[0.7777777777777778,\"#fb9f3a\"],[0.8888888888888888,\"#fdca26\"],[1.0,\"#f0f921\"]]}],\"contourcarpet\":[{\"type\":\"contourcarpet\",\"colorbar\":{\"outlinewidth\":0,\"ticks\":\"\"}}],\"contour\":[{\"type\":\"contour\",\"colorbar\":{\"outlinewidth\":0,\"ticks\":\"\"},\"colorscale\":[[0.0,\"#0d0887\"],[0.1111111111111111,\"#46039f\"],[0.2222222222222222,\"#7201a8\"],[0.3333333333333333,\"#9c179e\"],[0.4444444444444444,\"#bd3786\"],[0.5555555555555556,\"#d8576b\"],[0.6666666666666666,\"#ed7953\"],[0.7777777777777778,\"#fb9f3a\"],[0.8888888888888888,\"#fdca26\"],[1.0,\"#f0f921\"]]}],\"surface\":[{\"type\":\"surface\",\"colorbar\":{\"outlinewidth\":0,\"ticks\":\"\"},\"colorscale\":[[0.0,\"#0d0887\"],[0.1111111111111111,\"#46039f\"],[0.2222222222222222,\"#7201a8\"],[0.3333333333333333,\"#9c179e\"],[0.4444444444444444,\"#bd3786\"],[0.5555555555555556,\"#d8576b\"],[0.6666666666666666,\"#ed7953\"],[0.7777777777777778,\"#fb9f3a\"],[0.8888888888888888,\"#fdca26\"],[1.0,\"#f0f921\"]]}],\"mesh3d\":[{\"type\":\"mesh3d\",\"colorbar\":{\"outlinewidth\":0,\"ticks\":\"\"}}],\"scatter\":[{\"fillpattern\":{\"fillmode\":\"overlay\",\"size\":10,\"solidity\":0.2},\"type\":\"scatter\"}],\"parcoords\":[{\"type\":\"parcoords\",\"line\":{\"colorbar\":{\"outlinewidth\":0,\"ticks\":\"\"}}}],\"scatterpolargl\":[{\"type\":\"scatterpolargl\",\"marker\":{\"colorbar\":{\"outlinewidth\":0,\"ticks\":\"\"}}}],\"bar\":[{\"error_x\":{\"color\":\"#2a3f5f\"},\"error_y\":{\"color\":\"#2a3f5f\"},\"marker\":{\"line\":{\"color\":\"#E5ECF6\",\"width\":0.5},\"pattern\":{\"fillmode\":\"overlay\",\"size\":10,\"solidity\":0.2}},\"type\":\"bar\"}],\"scattergeo\":[{\"type\":\"scattergeo\",\"marker\":{\"colorbar\":{\"outlinewidth\":0,\"ticks\":\"\"}}}],\"scatterpolar\":[{\"type\":\"scatterpolar\",\"marker\":{\"colorbar\":{\"outlinewidth\":0,\"ticks\":\"\"}}}],\"histogram\":[{\"marker\":{\"pattern\":{\"fillmode\":\"overlay\",\"size\":10,\"solidity\":0.2}},\"type\":\"histogram\"}],\"scattergl\":[{\"type\":\"scattergl\",\"marker\":{\"colorbar\":{\"outlinewidth\":0,\"ticks\":\"\"}}}],\"scatter3d\":[{\"type\":\"scatter3d\",\"line\":{\"colorbar\":{\"outlinewidth\":0,\"ticks\":\"\"}},\"marker\":{\"colorbar\":{\"outlinewidth\":0,\"ticks\":\"\"}}}],\"scattermapbox\":[{\"type\":\"scattermapbox\",\"marker\":{\"colorbar\":{\"outlinewidth\":0,\"ticks\":\"\"}}}],\"scatterternary\":[{\"type\":\"scatterternary\",\"marker\":{\"colorbar\":{\"outlinewidth\":0,\"ticks\":\"\"}}}],\"scattercarpet\":[{\"type\":\"scattercarpet\",\"marker\":{\"colorbar\":{\"outlinewidth\":0,\"ticks\":\"\"}}}],\"carpet\":[{\"aaxis\":{\"endlinecolor\":\"#2a3f5f\",\"gridcolor\":\"white\",\"linecolor\":\"white\",\"minorgridcolor\":\"white\",\"startlinecolor\":\"#2a3f5f\"},\"baxis\":{\"endlinecolor\":\"#2a3f5f\",\"gridcolor\":\"white\",\"linecolor\":\"white\",\"minorgridcolor\":\"white\",\"startlinecolor\":\"#2a3f5f\"},\"type\":\"carpet\"}],\"table\":[{\"cells\":{\"fill\":{\"color\":\"#EBF0F8\"},\"line\":{\"color\":\"white\"}},\"header\":{\"fill\":{\"color\":\"#C8D4E3\"},\"line\":{\"color\":\"white\"}},\"type\":\"table\"}],\"barpolar\":[{\"marker\":{\"line\":{\"color\":\"#E5ECF6\",\"width\":0.5},\"pattern\":{\"fillmode\":\"overlay\",\"size\":10,\"solidity\":0.2}},\"type\":\"barpolar\"}],\"pie\":[{\"automargin\":true,\"type\":\"pie\"}]},\"layout\":{\"autotypenumbers\":\"strict\",\"colorway\":[\"#636efa\",\"#EF553B\",\"#00cc96\",\"#ab63fa\",\"#FFA15A\",\"#19d3f3\",\"#FF6692\",\"#B6E880\",\"#FF97FF\",\"#FECB52\"],\"font\":{\"color\":\"#2a3f5f\"},\"hovermode\":\"closest\",\"hoverlabel\":{\"align\":\"left\"},\"paper_bgcolor\":\"white\",\"plot_bgcolor\":\"#E5ECF6\",\"polar\":{\"bgcolor\":\"#E5ECF6\",\"angularaxis\":{\"gridcolor\":\"white\",\"linecolor\":\"white\",\"ticks\":\"\"},\"radialaxis\":{\"gridcolor\":\"white\",\"linecolor\":\"white\",\"ticks\":\"\"}},\"ternary\":{\"bgcolor\":\"#E5ECF6\",\"aaxis\":{\"gridcolor\":\"white\",\"linecolor\":\"white\",\"ticks\":\"\"},\"baxis\":{\"gridcolor\":\"white\",\"linecolor\":\"white\",\"ticks\":\"\"},\"caxis\":{\"gridcolor\":\"white\",\"linecolor\":\"white\",\"ticks\":\"\"}},\"coloraxis\":{\"colorbar\":{\"outlinewidth\":0,\"ticks\":\"\"}},\"colorscale\":{\"sequential\":[[0.0,\"#0d0887\"],[0.1111111111111111,\"#46039f\"],[0.2222222222222222,\"#7201a8\"],[0.3333333333333333,\"#9c179e\"],[0.4444444444444444,\"#bd3786\"],[0.5555555555555556,\"#d8576b\"],[0.6666666666666666,\"#ed7953\"],[0.7777777777777778,\"#fb9f3a\"],[0.8888888888888888,\"#fdca26\"],[1.0,\"#f0f921\"]],\"sequentialminus\":[[0.0,\"#0d0887\"],[0.1111111111111111,\"#46039f\"],[0.2222222222222222,\"#7201a8\"],[0.3333333333333333,\"#9c179e\"],[0.4444444444444444,\"#bd3786\"],[0.5555555555555556,\"#d8576b\"],[0.6666666666666666,\"#ed7953\"],[0.7777777777777778,\"#fb9f3a\"],[0.8888888888888888,\"#fdca26\"],[1.0,\"#f0f921\"]],\"diverging\":[[0,\"#8e0152\"],[0.1,\"#c51b7d\"],[0.2,\"#de77ae\"],[0.3,\"#f1b6da\"],[0.4,\"#fde0ef\"],[0.5,\"#f7f7f7\"],[0.6,\"#e6f5d0\"],[0.7,\"#b8e186\"],[0.8,\"#7fbc41\"],[0.9,\"#4d9221\"],[1,\"#276419\"]]},\"xaxis\":{\"gridcolor\":\"white\",\"linecolor\":\"white\",\"ticks\":\"\",\"title\":{\"standoff\":15},\"zerolinecolor\":\"white\",\"automargin\":true,\"zerolinewidth\":2},\"yaxis\":{\"gridcolor\":\"white\",\"linecolor\":\"white\",\"ticks\":\"\",\"title\":{\"standoff\":15},\"zerolinecolor\":\"white\",\"automargin\":true,\"zerolinewidth\":2},\"scene\":{\"xaxis\":{\"backgroundcolor\":\"#E5ECF6\",\"gridcolor\":\"white\",\"linecolor\":\"white\",\"showbackground\":true,\"ticks\":\"\",\"zerolinecolor\":\"white\",\"gridwidth\":2},\"yaxis\":{\"backgroundcolor\":\"#E5ECF6\",\"gridcolor\":\"white\",\"linecolor\":\"white\",\"showbackground\":true,\"ticks\":\"\",\"zerolinecolor\":\"white\",\"gridwidth\":2},\"zaxis\":{\"backgroundcolor\":\"#E5ECF6\",\"gridcolor\":\"white\",\"linecolor\":\"white\",\"showbackground\":true,\"ticks\":\"\",\"zerolinecolor\":\"white\",\"gridwidth\":2}},\"shapedefaults\":{\"line\":{\"color\":\"#2a3f5f\"}},\"annotationdefaults\":{\"arrowcolor\":\"#2a3f5f\",\"arrowhead\":0,\"arrowwidth\":1},\"geo\":{\"bgcolor\":\"white\",\"landcolor\":\"#E5ECF6\",\"subunitcolor\":\"white\",\"showland\":true,\"showlakes\":true,\"lakecolor\":\"white\"},\"title\":{\"x\":0.05},\"mapbox\":{\"style\":\"light\"}}},\"legend\":{\"tracegroupgap\":0},\"margin\":{\"t\":60},\"title\":{\"text\":\"Pie Chart of Factor Feature\"}},                        {\"responsive\": true}                    ).then(function(){\n",
       "                            \n",
       "var gd = document.getElementById('1258daa0-d93f-42c1-8143-b144752b96ce');\n",
       "var x = new MutationObserver(function (mutations, observer) {{\n",
       "        var display = window.getComputedStyle(gd).display;\n",
       "        if (!display || display === 'none') {{\n",
       "            console.log([gd, 'removed!']);\n",
       "            Plotly.purge(gd);\n",
       "            observer.disconnect();\n",
       "        }}\n",
       "}});\n",
       "\n",
       "// Listen for the removal of the full notebook cells\n",
       "var notebookContainer = gd.closest('#notebook-container');\n",
       "if (notebookContainer) {{\n",
       "    x.observe(notebookContainer, {childList: true});\n",
       "}}\n",
       "\n",
       "// Listen for the clearing of the current output cell\n",
       "var outputEl = gd.closest('.output');\n",
       "if (outputEl) {{\n",
       "    x.observe(outputEl, {childList: true});\n",
       "}}\n",
       "\n",
       "                        })                };                });            </script>        </div>"
      ]
     },
     "metadata": {},
     "output_type": "display_data"
    }
   ],
   "source": [
    "d = pd.DataFrame(df_filtered[\"Factor\"].value_counts())\n",
    "fig = px.pie(d, \n",
    "             values = \"Factor\", \n",
    "             names = df_filtered[\"Factor\"], \n",
    "             hole = 0.35, opacity = 0.8,\n",
    "             labels = {\"label\" :\"Factor\",\"Factor\":\"Number of Samples\"})\n",
    "fig.update_layout(title = dict(text = \"Pie Chart of Factor Feature\"))\n",
    "fig.update_traces(textposition = \"outside\", textinfo = \"percent+label\")\n",
    "fig.show()"
   ]
  },
  {
   "cell_type": "code",
   "execution_count": null,
   "metadata": {},
   "outputs": [],
   "source": []
  },
  {
   "cell_type": "code",
   "execution_count": null,
   "metadata": {},
   "outputs": [],
   "source": []
  }
 ],
 "metadata": {
  "kernelspec": {
   "display_name": "Python 3 (ipykernel)",
   "language": "python",
   "name": "python3"
  },
  "language_info": {
   "codemirror_mode": {
    "name": "ipython",
    "version": 3
   },
   "file_extension": ".py",
   "mimetype": "text/x-python",
   "name": "python",
   "nbconvert_exporter": "python",
   "pygments_lexer": "ipython3",
   "version": "3.11.3"
  }
 },
 "nbformat": 4,
 "nbformat_minor": 4
}
